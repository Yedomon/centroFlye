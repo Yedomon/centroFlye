{
 "cells": [
  {
   "cell_type": "code",
   "execution_count": null,
   "metadata": {},
   "outputs": [],
   "source": [
    "import sys\n",
    "sys.path.append('..')\n",
    "import edlib\n",
    "import numpy as np\n",
    "from collections import Counter, defaultdict\n",
    "import operator\n",
    "from string import ascii_uppercase\n",
    "\n",
    "\n",
    "from lrd_parser import LRD_Report\n",
    "from utils.bio import hamming_distance, identity_shift, OverlapAlignment, compress_homopolymer\n",
    "import networkx as nx\n",
    "\n",
    "import matplotlib\n",
    "%matplotlib inline \n",
    "import matplotlib.pyplot as plt\n",
    "from matplotlib.ticker import MaxNLocator\n",
    "\n",
    "from ndex2.nice_cx_network import NiceCXNetwork\n",
    "import ndex2.client as nc\n",
    "import ndex2\n",
    "\n",
    "%load_ext autoreload\n",
    "%autoreload 2"
   ]
  },
  {
   "cell_type": "code",
   "execution_count": null,
   "metadata": {},
   "outputs": [],
   "source": [
    "lrd_report_fn = '/Poppy/abzikadze/centroFlye/centroFlye_repo/experiments/20191023/lrd_d6z1_rel3_Karen/decomposition.tsv'\n",
    "monomers_fn = \"/Poppy/abzikadze/tandem_flye/data/human/isolated_centromeres/extracted_HORs/CEN6/monomers/inferred_monomers_single.fa\"\n",
    "\n",
    "lrd_report = LRD_Report(lrd_report_fn=lrd_report_fn, monomers_fn=monomers_fn)"
   ]
  },
  {
   "cell_type": "code",
   "execution_count": 74,
   "metadata": {},
   "outputs": [
    {
     "data": {
      "text/plain": [
       "471"
      ]
     },
     "execution_count": 74,
     "metadata": {},
     "output_type": "execute_result"
    }
   ],
   "source": [
    "monomer_strings = {r_id: record.string for r_id, record in lrd_report.records.items()}\n",
    "len(monomer_strings)"
   ]
  },
  {
   "cell_type": "code",
   "execution_count": 75,
   "metadata": {},
   "outputs": [],
   "source": [
    "def filter_strings(monomer_strings, max_gap=0.05):\n",
    "    filtered_strings = {}\n",
    "    for r_id, string in monomer_strings.items():\n",
    "        ngaps = Counter(string)['=']\n",
    "        if ngaps / len(string) <= max_gap:\n",
    "            filtered_strings[r_id] = string\n",
    "    return filtered_strings"
   ]
  },
  {
   "cell_type": "code",
   "execution_count": 76,
   "metadata": {},
   "outputs": [
    {
     "data": {
      "text/plain": [
       "408"
      ]
     },
     "execution_count": 76,
     "metadata": {},
     "output_type": "execute_result"
    }
   ],
   "source": [
    "monomer_strings = filter_strings(monomer_strings)\n",
    "len(monomer_strings)"
   ]
  },
  {
   "cell_type": "code",
   "execution_count": 12,
   "metadata": {},
   "outputs": [],
   "source": [
    "def get_frequent_kmers(monomer_strings, k, min_mult=10):\n",
    "    all_kmers = Counter()\n",
    "    read_kmer_locations = defaultdict(list)\n",
    "    for r_id, string in monomer_strings.items():\n",
    "        for i in range(len(string)-k+1):\n",
    "            kmer = string[i:i+k]\n",
    "            if '=' not in kmer:\n",
    "                all_kmers[kmer] += 1\n",
    "                read_kmer_locations[kmer].append((r_id, i))\n",
    "                \n",
    "    frequent_kmers = {kmer: cnt for kmer, cnt in all_kmers.items()\n",
    "                      if cnt >= min_mult}\n",
    "    frequent_kmers_read_pos = {kmer: read_kmer_locations[kmer] for kmer in frequent_kmers}\n",
    "    return frequent_kmers, frequent_kmers_read_pos\n"
   ]
  },
  {
   "cell_type": "code",
   "execution_count": 59,
   "metadata": {},
   "outputs": [],
   "source": [
    "class DeBruijnGraph:\n",
    "    def __init__(self, k):\n",
    "        self.graph = nx.DiGraph()\n",
    "        self.k = k\n",
    "\n",
    "    def add_kmer(self, kmer, coverage=1):\n",
    "        self.graph.add_edge(kmer[:-1], kmer[1:],\n",
    "                            edge_kmer=kmer,\n",
    "                            coverages=[coverage])\n",
    "\n",
    "    def add_kmers(self, kmers, coverage=None):\n",
    "        for kmer in kmers:\n",
    "            if coverage is None:\n",
    "                self.add_kmer(kmer)\n",
    "            else:\n",
    "                self.add_kmer(kmer, coverage=coverage[kmer])\n",
    "                \n",
    "    def collapse_nonbranching_paths(self):\n",
    "        def node_on_nonbranching_path(graph, node):\n",
    "            return nx.number_of_nodes(graph) > 1 \\\n",
    "                and graph.in_degree(node) == 1 \\\n",
    "                and graph.out_degree(node) == 1\n",
    "\n",
    "        for node in list(self.graph.nodes()):\n",
    "            if node_on_nonbranching_path(self.graph, node):\n",
    "                in_edge = list(self.graph.in_edges(node))[0]\n",
    "                out_edge = list(self.graph.out_edges(node))[0]\n",
    "                # in_edge_color = self.graph.edges[in_edge]['color']\n",
    "                # out_edge_color = self.graph.edges[out_edge]['color']\n",
    "                in_edge_kmer = self.graph.edges[in_edge]['edge_kmer']\n",
    "                out_edge_kmer = self.graph.edges[out_edge]['edge_kmer']\n",
    "                in_edge_cov = self.graph.edges[in_edge]['coverages']\n",
    "                out_edge_cov = self.graph.edges[out_edge]['coverages']\n",
    "\n",
    "                in_node = in_edge[0]\n",
    "                out_node = out_edge[1]\n",
    "\n",
    "                new_kmer = in_edge_kmer + \\\n",
    "                    out_edge_kmer[-(len(out_edge_kmer)-self.k+1):]\n",
    "                new_coverages = in_edge_cov + out_edge_cov\n",
    "                new_coverages.sort()\n",
    "                self.graph.add_edge(in_node, out_node,\n",
    "                                    edge_kmer=new_kmer,\n",
    "                                    # color=in_edge_color,\n",
    "                                    coverages=new_coverages,\n",
    "                                    length=self.k+len(new_coverages)-1)\n",
    "                self.graph.remove_node(node)\n",
    "\n",
    "    def get_contigs(self):\n",
    "        self.collapse_nonbranching_paths()\n",
    "        contigs, coverages = [], []\n",
    "        for edge in self.graph.edges():\n",
    "            contigs.append(self.graph.get_edge_data(*edge)['edge_kmer'])\n",
    "            coverages.append(np.median(self.graph.get_edge_data(*edge)['coverages']))\n",
    "        return contigs, coverages"
   ]
  },
  {
   "cell_type": "code",
   "execution_count": 113,
   "metadata": {},
   "outputs": [],
   "source": [
    "def iterative_graph(monomer_strings, min_k=250, max_k=250, min_mult=10, step=10):\n",
    "    dbs, all_contigs = {}, {}\n",
    "    for k in range(min_k, max_k+1, step):\n",
    "        print(f'k={k}')\n",
    "        # print(len(input_strings))\n",
    "        input_strings = monomer_strings.copy()\n",
    "        frequent_kmers, frequent_kmers_read_pos = get_frequent_kmers(input_strings, k=k, min_mult=min_mult)\n",
    "        db = DeBruijnGraph(k=k)\n",
    "        db.add_kmers(frequent_kmers, coverage=frequent_kmers)\n",
    "        contigs, coverages = db.get_contigs()\n",
    "        # lens = sorted(len(contig) for contig, coverage in zip(contigs, coverages))[::-1]\n",
    "        lens = sorted((len(contig), coverage) for contig, coverage in zip(contigs, coverages))[::-1]\n",
    "        long_edges = [x for x in lens if x[1] >= 50]\n",
    "        print(f'lengths of contigs: {lens}')\n",
    "        print(f'# long edges = {long_edges}')\n",
    "        for i in range(len(contigs)):\n",
    "            for j in range(min_mult):\n",
    "                input_strings[f'contig_k{k}_i{i}_j{j}'] = contigs[i]\n",
    "        print(\"\")\n",
    "        all_contigs[k] = contigs\n",
    "        dbs[k] = db\n",
    "    return all_contigs, dbs"
   ]
  },
  {
   "cell_type": "code",
   "execution_count": 114,
   "metadata": {
    "scrolled": false
   },
   "outputs": [
    {
     "name": "stdout",
     "output_type": "stream",
     "text": [
      "k=250\n",
      "lengths of contigs: [(991, 13.0), (824, 12.0), (798, 15.0), (700, 12.0), (626, 11.0), (594, 14.0), (549, 14.0), (540, 12.0), (531, 15.0), (531, 13.0), (512, 12.0), (510, 24.0), (496, 12.0), (479, 12.0), (469, 11.0), (447, 12.0), (429, 11.0), (414, 13.0), (408, 11.0), (405, 10.0), (397, 11.0), (360, 15.0), (350, 10.0), (345, 12.0), (345, 12.0), (330, 19.0), (327, 19.0), (321, 37.5), (321, 26.5), (321, 23.0), (316, 11.0), (312, 50.0), (312, 17.0), (312, 10.0), (311, 12.0), (311, 10.0), (309, 13.0), (300, 25.0), (297, 24.0), (291, 10.0), (285, 26.0), (284, 10.0), (282, 78.0), (282, 52.0), (282, 34.0), (282, 32.0), (282, 22.0), (282, 19.0), (282, 11.0), (279, 11.0), (276, 33.0), (276, 11.0), (275, 10.0), (273, 35.0), (273, 10.0), (267, 72.0), (267, 10.0), (266, 11.0), (266, 10.0), (265, 10.0), (264, 1142.0), (264, 102.0), (262, 75.0), (261, 37.0), (259, 10.0), (259, 10.0), (258, 37.0), (257, 10.0), (256, 10.0), (256, 10.0), (255, 24.5), (255, 11.0), (255, 10.0), (252, 1158.0), (252, 10.0), (252, 10.0), (251, 57.5)]\n",
      "# long edges = [(312, 50.0), (282, 78.0), (282, 52.0), (267, 72.0), (264, 1142.0), (264, 102.0), (262, 75.0), (252, 1158.0), (251, 57.5)]\n",
      "\n"
     ]
    }
   ],
   "source": [
    "contigs, dbs = iterative_graph(monomer_strings)"
   ]
  },
  {
   "cell_type": "code",
   "execution_count": 115,
   "metadata": {},
   "outputs": [
    {
     "data": {
      "image/png": "[encoded data removed]",
      "text/plain": [
       "<Figure size 432x288 with 1 Axes>"
      ]
     },
     "metadata": {},
     "output_type": "display_data"
    }
   ],
   "source": [
    "nx.draw(dbs[250].graph)"
   ]
  },
  {
   "cell_type": "code",
   "execution_count": 116,
   "metadata": {},
   "outputs": [
    {
     "name": "stdout",
     "output_type": "stream",
     "text": [
      "Generating CX\n"
     ]
    },
    {
     "data": {
      "text/plain": [
       "'http://public.ndexbio.org/v2/network/338ee119-fce6-11e9-bb65-0ac135e8bacf'"
      ]
     },
     "execution_count": 116,
     "metadata": {},
     "output_type": "execute_result"
    }
   ],
   "source": [
    "nice_cx_debr_graph = ndex2.create_nice_cx_from_networkx(dbs[250].graph)\n",
    "\n",
    "nice_cx_debr_graph.upload_to(server='public.ndexbio.org', username = 'seryrzu',\n",
    "                             password = 'Kxoq)V?Z]vrgt87x*XO,:we)U&RwEEG!')"
   ]
  },
  {
   "cell_type": "code",
   "execution_count": null,
   "metadata": {},
   "outputs": [],
   "source": []
  }
 ],
 "metadata": {
  "kernelspec": {
   "display_name": "Python 3",
   "language": "python",
   "name": "python3"
  },
  "language_info": {
   "codemirror_mode": {
    "name": "ipython",
    "version": 3
   },
   "file_extension": ".py",
   "mimetype": "text/x-python",
   "name": "python",
   "nbconvert_exporter": "python",
   "pygments_lexer": "ipython3",
   "version": "3.6.7"
  }
 },
 "nbformat": 4,
 "nbformat_minor": 2
}
