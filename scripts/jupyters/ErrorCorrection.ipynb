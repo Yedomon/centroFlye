{
 "cells": [
  {
   "cell_type": "code",
   "execution_count": 1,
   "metadata": {},
   "outputs": [],
   "source": [
    "import sys\n",
    "sys.path.append('..')\n",
    "import edlib\n",
    "import numpy as np\n",
    "from collections import Counter, defaultdict\n",
    "import operator\n",
    "from string import ascii_uppercase\n",
    "\n",
    "\n",
    "from lrd_parser import LRD_Report\n",
    "from utils.bio import hamming_distance, identity_shift, OverlapAlignment, compress_homopolymer\n",
    "import networkx as nx\n",
    "\n",
    "import matplotlib\n",
    "%matplotlib inline \n",
    "import matplotlib.pyplot as plt\n",
    "from matplotlib.ticker import MaxNLocator\n",
    "\n",
    "from ndex2.nice_cx_network import NiceCXNetwork\n",
    "import ndex2.client as nc\n",
    "import ndex2\n",
    "\n",
    "%load_ext autoreload\n",
    "%autoreload 2"
   ]
  },
  {
   "cell_type": "code",
   "execution_count": 2,
   "metadata": {},
   "outputs": [],
   "source": [
    "lrd_report_fn = '/Poppy/abzikadze/centroFlye/centroFlye_repo/experiments/20191023/lrd_d6z1_rel3_Karen/decomposition.tsv'\n",
    "monomers_fn = \"/Poppy/abzikadze/tandem_flye/data/human/isolated_centromeres/extracted_HORs/CEN6/monomers/inferred_monomers_single.fa\"\n",
    "\n",
    "lrd_report = LRD_Report(lrd_report_fn=lrd_report_fn, monomers_fn=monomers_fn)"
   ]
  },
  {
   "cell_type": "code",
   "execution_count": 141,
   "metadata": {},
   "outputs": [],
   "source": [
    "def get_frequent_kmers(lrd_report, k, min_mult=15):\n",
    "    all_kmers = Counter()\n",
    "    read_kmer_locations = defaultdict(list)\n",
    "    for r_id, record in lrd_report.records.items():\n",
    "        string = record.string\n",
    "        for i in range(len(string)-k+1):\n",
    "            kmer = string[i:i+k]\n",
    "            if '=' not in kmer:\n",
    "                all_kmers[kmer] += 1\n",
    "                read_kmer_locations[kmer].append((r_id, i))\n",
    "                \n",
    "    frequent_kmers = {kmer: cnt for kmer, cnt in all_kmers.items()\n",
    "                      if cnt >= min_mult}\n",
    "    frequent_kmers_read_pos = {kmer: read_kmer_locations[kmer] for kmer in frequent_kmers}\n",
    "    return frequent_kmers, frequent_kmers_read_pos\n"
   ]
  },
  {
   "cell_type": "code",
   "execution_count": 168,
   "metadata": {},
   "outputs": [],
   "source": [
    "k=150\n",
    "frequent_kmers, frequent_kmers_read_pos = get_frequent_kmers(lrd_report, k=k)"
   ]
  },
  {
   "cell_type": "code",
   "execution_count": 169,
   "metadata": {},
   "outputs": [],
   "source": [
    "class DeBruijnGraph:\n",
    "    def __init__(self, k):\n",
    "        self.graph = nx.DiGraph()\n",
    "        self.k = k\n",
    "\n",
    "    def add_kmer(self, kmer, coverage=1):\n",
    "        self.graph.add_edge(kmer[:-1], kmer[1:],\n",
    "                            edge_kmer=kmer,\n",
    "                            coverages=[coverage])\n",
    "\n",
    "    def add_kmers(self, kmers, coverage=None):\n",
    "        for kmer in kmers:\n",
    "            if coverage is None:\n",
    "                self.add_kmer(kmer)\n",
    "            else:\n",
    "                self.add_kmer(kmer, coverage=coverage[kmer])\n"
   ]
  },
  {
   "cell_type": "code",
   "execution_count": 170,
   "metadata": {},
   "outputs": [],
   "source": [
    "db = DeBruijnGraph(k=k)\n",
    "db.add_kmers(frequent_kmers, coverage=frequent_kmers)"
   ]
  },
  {
   "cell_type": "code",
   "execution_count": 171,
   "metadata": {},
   "outputs": [
    {
     "data": {
      "text/plain": [
       "False"
      ]
     },
     "execution_count": 171,
     "metadata": {},
     "output_type": "execute_result"
    }
   ],
   "source": [
    "nx.is_directed_acyclic_graph(db.graph)"
   ]
  },
  {
   "cell_type": "code",
   "execution_count": 172,
   "metadata": {},
   "outputs": [],
   "source": [
    "def get_read_coverage(frequent_kmers_read_pos, lrd_report, k):\n",
    "    coverage = {}\n",
    "    for r_id in lrd_report.records:\n",
    "        coverage[r_id] = [0] * (len(lrd_report.records[r_id].string) + 1)\n",
    "    for pairs in frequent_kmers_read_pos.values():\n",
    "        for r_id, pos in pairs:\n",
    "            coverage[r_id][pos] += 1\n",
    "            coverage[r_id][pos+k] -= 1\n",
    "    for r_id in coverage:\n",
    "        coverage[r_id] = np.cumsum(coverage[r_id])\n",
    "        coverage[r_id] = coverage[r_id][:-1]\n",
    "    return coverage"
   ]
  },
  {
   "cell_type": "code",
   "execution_count": 173,
   "metadata": {},
   "outputs": [],
   "source": [
    "coverage = get_read_coverage(frequent_kmers_read_pos=frequent_kmers_read_pos,\n",
    "                             lrd_report=lrd_report,\n",
    "                             k=k)"
   ]
  },
  {
   "cell_type": "code",
   "execution_count": 174,
   "metadata": {},
   "outputs": [
    {
     "data": {
      "text/plain": [
       "dict_keys(['00739941-c14c-40bd-9fad-fabff753795b', '01f80610-395e-4ef8-93d0-526989b8cb53', '0352811e-b17c-4fc1-a73f-99757d30745c', '03e1fc3d-8e77-4170-94e1-3711db044f8b', '04203cad-4a32-4b9c-b7dd-c8603e54b46b', '04b2f961-f6b4-438d-9a64-83dbd6049ffc', '050b88c4-e343-431d-99dc-4b8151b4adef', '0540aa3e-f34b-4e74-a5e5-884b69594a0d', '054f1983-9204-4889-936a-64ab45e7810c', '0550a437-3d6c-47d9-8a69-c6793852bd89', '057047e6-eb15-4d39-b4f6-473ecba0558a', '05a4fa6a-38b1-40d6-916e-886ad1fb050b', '05c5a912-42ad-4a57-ae81-0a318dc8c6b7', '063b3d2c-c9b3-4292-861f-2839fc294b2b', '079aa8c8-90a4-4fe8-af37-d9170f7d82b7', '0866791e-4ea1-4b1e-aa7a-2f437a87e866', '08a68948-5d96-4ed2-9632-c86d0200d914', '0aca72fc-0a1e-416a-beb5-6b4bde55eb81', '0b1f944b-90f7-4e17-a1cd-f02d38d0f84c', '0b6b3bce-3f57-4c84-b5a5-ceca6311adaa', '0b928976-0529-4907-b3a4-d15847c31fb5', '0c0dd3f7-6828-447b-ac53-1d118b0270a0', '0c20902b-e7d8-44ea-9edf-179fc2b83208', '0c50866b-f780-4551-a4bb-aa35a72f3f4d', '0c849de1-fbde-4ff4-bf9e-a7675a011e11', '0d9cde69-8b6a-469d-bcde-dd1d96c040ad', '0df7f433-3241-4b8c-8b0d-293fe72876b6', '0edd79ac-1cdd-4677-8898-71aae0d5c1c3', '0ee3b526-5139-4d0a-8c65-c1646de212c8', '0fa7663b-7fd0-459f-955b-f03284630e02', '10b78685-fe40-49f4-bb76-848371912dea', '11416399-75e7-4251-824f-c17721a01605', '11f3f86e-7a31-466c-a78e-f2d96995b70c', '12ca66cb-6710-4cda-b1fe-01c8280c5be9', '13b093b1-6dd5-4fbe-9a41-0c927ef131ff', '13bb6c69-9bd3-4fe1-9cfe-8dbe5c518c38', '13ec8571-a0df-49ce-b241-5ae475eb59fd', '14eb3993-37ae-468e-9e48-c2eeeb996ed3', '1570b8fa-de12-449f-825f-9e99737031dc', '15d5e998-80af-4e18-b530-2abde41195de', '160f308a-c1c5-44db-8cc4-7fcf2ff5aa8d', '169d4607-e4a6-4aa5-afab-c26fa3248f28', '16b13a10-65ce-4a43-a8aa-b385ae435bce', '17abf8ff-b793-474c-a260-9284ae6d23e2', '182f1138-55b1-45dc-8230-e052f3aa6a44', '1923a770-53ef-4038-bf6e-e2bfece248df', '19bbd83f-a594-4d19-8181-b17cf25eb7af', '1b0ec5c2-6849-4693-b854-840ded3dd913', '1b4bd09e-07f3-4455-b041-c4599b6fbe3d', '1d0706f6-cc39-4a05-a4fd-2ee7e1674457', '1d76a775-8e2b-4f44-a979-68861b6f25de', '1d80ab40-d129-4934-8d91-acb00a95e60f', '1dd04486-31fe-4220-9a27-a9fa5baa0dfe', '1de6e2f4-1900-438b-9239-2ea85e25bd1a', '1df6a0f7-28ca-432e-b09c-15f7d61639e0', '1e4593ef-e685-432d-9726-ba130c2d8fb8', '1eb4d06c-7940-405d-b6c8-dfbfa09e409d', '1f4000ef-a7d9-41ee-9c93-047ca36ae7d8', '2150aca2-413b-4207-ab2d-ac2f390a625d', '22f0277b-a525-4292-bf3e-c6552d0ea841', '238e11c1-f034-41da-9354-43126513f191', '23bd770d-5c4c-4080-81e5-c51ef2ed5959', '24ae0ff5-199f-441f-8f6e-c127eedf888e', '25c395b8-2d54-42bc-8378-2298021fa871', '267678a8-d2b5-49ec-a1b4-a5d0cca76626', '26898ff3-8db1-4af4-84c9-8a2976973cd6', '269f3cfd-abf5-4aa5-b3c2-b05d2aa7655d', '27685c3b-d97c-4eeb-bcc0-08890bb2ee66', '28717818-88c5-4c5e-b5d9-97b69056cf17', '288dc332-ae38-45ee-8fa6-8a9616d28aaa', '28c20ccf-1628-4edb-9382-36b011dbdd3a', '29591d3f-e78a-4297-8b20-1e5ce39d9582', '2a70bf43-41f6-4d00-859e-f54cd8de6828', '2b30c216-e7bb-465a-bc1b-1847312ecdc4', '2c2202da-61a9-489e-bdc9-8e04e504278f', '2d7e41d5-9657-4c4a-bafe-de2baf162d51', '2dde8463-6460-49d7-b54f-67a82d5bcd53', '2de12301-635c-4a93-a772-42e39317276b', '2e3be974-c3f7-4e10-bd69-b04339dde98b', '2e877b89-1026-41a9-9222-479ec6917173', '2ec8a95a-8007-470b-b993-56ee8bc97b28', '2fef785e-910e-4071-87f5-ba59052d4f7f', '30d41a6e-b21b-4ac0-95d9-4f953e4bb2d9', '31700b15-5b3d-4d8c-b047-7836cb183613', '31b10227-6059-4013-a693-6254726fab55', '32aca0e3-fbd9-4730-abc9-19fd94edf078', '343a21b5-fd1f-486f-bf0f-5d4cabcda6e9', '345287e0-b556-4a73-b28d-961c95fa7747', '347cb721-6ad0-4df3-9bd2-4bc0a3c08c8d', '3545652f-4bd9-4d72-97ed-9a10cef9a1f1', '356056be-00d7-4e1a-b6d5-7a0865f3aefe', '3562fd6a-7594-4454-8f84-aad29952d770', '35aded7d-a60e-4628-ab38-4fd91010c0f6', '35d1c770-9b37-4f54-abfa-6b59f62c912f', '35e23dc0-4219-4951-b491-be041f325bf3', '375addd1-544e-4926-90d4-1e36d15bf3a3', '37935cc3-3b9e-4f66-bea9-eec5aef4f7fd', '37f361b5-ef96-4dc3-a68e-1a25cca9075d', '38549dfb-a56b-4665-a5f8-3f68fafa4cdd', '385826e5-a023-4543-966c-b69c8f2501a5', '3a48f0c7-da6a-4f08-857d-f0843fdacaf5', '3bcc8728-dcc2-49d2-9b1f-f61609e3d373', '3bd633e5-3b83-4315-bba5-67b206604850', '3c3fa93f-edae-47ab-a8ac-0c8ef9565762', '3c83b397-f682-4dbe-915f-6b64265b8654', '3ca418ed-c4eb-4ae3-b52b-48a6df3b1d75', '3ca9bb28-d5dc-4081-939b-3da4f258f0d0', '3d0bd9d9-7656-43d6-9929-32a0151bd996', '3d6a3d5b-3272-4d17-813b-58e27a214c40', '3f3090f9-9551-44c9-9b6f-430fb93af6c4', '411f8288-187e-4e46-80a3-ac3ada52de7a', '4120b935-18e3-4292-852d-40c348acb661', '42affd5a-e784-44ae-8899-d978b5a8ee10', '42da64e4-e647-4426-b497-cda32cd3ca28', '42fdbe9f-4cbb-411c-bed4-ee4eb9231cf9', '44881201-9746-4ce0-9a88-b6d3b97045af', '44d4d9b7-8566-446a-b6aa-0811c2eec0b3', '4578e1fd-b534-433e-87af-9e88fbdf48c1', '459cabbd-30ad-4a2a-985a-5983b49e50ff', '45b3b855-dfde-4aaa-8af9-25a72c65340f', '45e876d6-d57f-494d-8e2e-164828eef754', '45ed9719-5222-4e8a-bc70-9af48321a97d', '4605f02a-cc88-45b0-8ba9-0d71a4722482', '46a4165e-6315-4339-9d4e-3af1ca00b3fc', '46bad76d-fcf7-4816-a7c2-ba08e219ea9d', '46bc1896-a35d-417b-810c-56d4f099b054', '479d758a-587a-4fcc-a42d-d195b4791235', '47d3eef9-a6f3-4442-955c-b56c312e11f8', '48bd91b5-11d1-43a0-a039-519e7e9a628c', '49ac581a-e56c-48e4-8278-da84cfa931cc', '4a47c299-3a7d-4d5e-8670-12bd357bb21e', '4b6070e0-4b25-49a4-9123-c74cb4a5cf86', '4b811b0c-45ab-49e1-bfa8-3e9aa50660a6', '4baab0ec-f951-4fdd-8b47-ecc7f3fef697', '4d4353d9-0078-40fa-ac0d-1b3ee5c86319', '4e7b52b1-a4dd-4ad3-b23e-061545814e12', '4eb665cb-7cab-49d1-87ad-657d6c73b237', '4f276aed-4110-4238-8a18-c70c6bb066f5', '4fc8a920-800d-4800-8fca-49deb40b997f', '4fe14776-2f0f-47b3-84a6-460839569e79', '528a305d-70ca-40fc-b37a-1658f2b55ef4', '52c8f175-492a-4595-b644-a92a5851120c', '53476436-5fdf-4cff-b14f-d0445d6ac7c9', '535aa52e-6acc-4f47-af7f-e728e2b8c0bc', '54f74ab2-9270-4dbd-8810-afdc4225e311', '571ca8b6-4d97-431c-985a-20b85136ab41', '591b498d-6f83-4fb9-a49e-1ea94b0dcf59', '5932592b-e27e-49d0-930d-4b989c2810e7', '5a4200d7-6028-47b3-8c1c-54a13d13fcbb', '5ae8a1b8-626c-4189-a795-3f16956e6121', '5b24ad34-47a7-44a3-999a-f2e3d539d7dc', '5bbd17b6-5345-4e42-8242-6c34ae8e9f8c', '5bddaf38-49a3-4c0f-a57d-78f8cf3dd325', '5c444c64-d756-4749-b4bd-38180dc553e1', '5c7941cc-8cb6-47b0-8ebc-dbfcf6e0a702', '5ccc5135-2ef3-4818-a040-0df3b7a54950', '5da9ab31-d608-4581-b5fd-37acce77300e', '5e01f02f-bb99-4a75-922d-196cf3532757', '5e05b38e-6015-4e7e-b8ea-a3d94b9236e7', '5ff1565e-becf-48f1-a892-ad91e232bd5e', '62056ff0-8867-443e-ab87-1c63b05e29e1', '6386eb83-821a-4093-8119-cec9ed1214dd', '63fa9a7e-2c00-49fb-905d-27fea8181b9e', '6477d4cb-74ae-4152-95fb-717a34e6dd64', '647c3a75-dc83-414f-b342-6df41c7e59b7', '64b137f0-6d19-47ba-8c2e-5043aedaf494', '64d6a20c-3f48-4180-b4a6-fe71786d840c', '66af9731-0dd6-4257-a639-7c4f020abdbc', '66b98fd1-93d1-4de7-bf05-0d98c19402ac', '66cd3439-2de9-4185-ad28-7fd4d44f1585', '6734cfdd-d685-406c-a0d0-9b27f1456913', '6788be2f-f157-43a1-91e4-f9b44e4f9a12', '684e59b9-80e2-43bd-bf4b-3339bc7af9c6', '68c5a50e-34de-430b-bd0f-feb62429620a', '6915f800-d0f0-47e3-93fe-031db0898afe', '696cdd6a-f7cc-4e90-9e78-19173b47543e', '6a68a785-4cca-4dcd-be48-bda6533fe2d3', '6b8010a0-1b7a-469b-acf1-dd9d34250137', '6c38b9e7-1f4b-4f6d-a732-09b5aaf2b22e', '6cab947f-d34f-4290-a06f-56de0f833f5b', '6cc9540d-e509-4846-8483-756bdaec3fce', '6d234dca-6700-4ac0-8cb2-31bf734d43df', '6de4fb89-4442-4a50-84a6-9a6271e253cc', '6e3d2a63-0182-4638-9e24-0f600e879cf7', '6e54ff5e-7a55-4dad-bae3-004d255dddbd', '6ed1b965-be64-413f-bbce-cc7aa882dc07', '6ee658cf-a26e-4c5a-87e1-aaa6a554d8a9', '6f75b838-13f0-4a0b-ae08-b7749c0057ab', '6fe2c8c2-0219-49fe-9fcf-8823fc2650c8', '71fc9912-72f2-4f3e-95a0-a0311ebd0387', '72d1c71a-7000-417b-8f0d-b1c05483e6a7', '72deebb0-f93a-4430-b554-6561a4547af6', '7351ffd3-b56a-4c92-bd43-c573bf8cc601', '74058d14-e46a-401a-9125-e5941971408f', '7449861c-ee02-4374-852b-c78c03e1eecf', '74737c74-d705-4348-8789-639d73d41a89', '747e0d59-fbd1-4378-bc82-77287e4bc114', '74ad6ed9-7075-4c36-acce-e2ae44e8fd9f', '75d67010-b675-4529-bee0-70051c4009e5', '7665e4ea-92ad-4dcf-8d86-b37ea9f29225', '76b12196-6464-428c-97e7-f75f1c263d5e', '7899faea-a337-4522-9856-c4e887d65abd', '794fcdf4-9216-42c1-abf6-e151c28caa2b', '7961926d-fd27-4842-9c67-65050f1f6aaf', '7972ee6f-5b4b-4b57-86ea-ce3463be594d', '7a11e524-31c6-47b5-98bc-e2bb4551972f', '7aeafbcb-6498-4d7b-92b7-20351a352c58', '7b5ed51a-6c37-4a73-94a0-ea268030cd62', '7bacbcf9-5c10-4e40-b09c-5b8c07ec0470', '7bc276f0-1b37-442c-83b8-ba0f8cba3770', '7c28cc24-1d36-456f-a02c-bef0849fbf2a', '7c56d9af-940e-452e-8cff-f55c0fca5451', '7ca38161-b3be-4373-8fd1-42c1d62f7208', '7d1b767b-ca76-4187-998c-6677cdaa5c01', '7e28e345-ded4-429a-86fb-4380067400b9', '7e466664-3a39-4e9c-8b2e-d07ecafd6769', '7e9301cd-6184-44f7-9db4-849ac08d33a5', '7ece2a4a-32a3-415b-864c-90afb8fe01f2', '7f9feb66-7d81-4873-846a-c9184e008621', '805dd6c7-fb61-484c-a665-287de030251c', '80c337c1-216d-46b5-8c69-07d2046d6fac', '80e43596-26bd-4086-bb44-20f57549d706', '811defc1-9588-4647-a195-9893efee03f8', '814fadd3-b302-42f2-b650-d53315b7844e', '81509345-296d-4e7d-9f59-b81d0cf7cb51', '81a9d35a-69d5-4616-b8dd-a76f0d764648', '81ccf480-2620-479e-9be5-24709fcf0b43', '82911af2-7474-4bce-8ea7-ee12600cac0a', '82d9415d-7424-44a9-a0ef-f9b00370aee7', '83a800ae-fe30-456c-b2d4-63aea374b2f1', '83b35def-7247-49ce-962f-2f52ffa02b6d', '8478a0be-b40f-43d5-b6cd-a4df5b6d4bcb', '84d34160-d1b6-42a0-9b4c-5f740b1fb105', '858c93df-7001-414b-b2d0-f2096f8b2538', '85ba9606-526c-4ace-a456-428d66cd332c', '864c1d5f-e259-4dce-970a-e09f38c5ed96', '865b8963-32b8-4a0e-b279-fd680c32d497', '86fdd7a8-71b5-46fa-90d2-5e6888ae2289', '871dbdd1-62eb-4c4b-b2fa-000febf9ba16', '878ae386-837d-4fee-8e88-efd450f04d73', '87eba8f7-4244-4414-8120-2072c1235ff9', '88736f6e-176d-4f3e-b044-8c9f5003ac56', '89babdc7-ef9b-43ac-bcfc-0265733886ed', '89c18976-4d67-44a0-a840-1e28dae05433', '8b7715a3-3c05-4dc2-a9fa-42ad1a4f184e', '8c0214da-d264-4072-94d8-24eb17d5b59b', '8c2fad5b-b459-4519-87a5-b83bf372e3db', '8d782575-f417-4185-898f-d9ed268f9e09', '8d93d2e7-a2bb-4ca7-a54b-920799c28dd8', '8dc5b116-9f6e-4be0-95db-b95d65ed60c0', '8dcb222b-3cf7-4252-b46e-553bf3c84bfd', '8e08bc04-b817-4c1a-a3bf-d8cb7e338dc4', '8e82bf8e-7a0c-4f8b-8f78-c80abf0f995f', '8e85dd90-8045-4df1-ba7b-b6b576deaa4d', '8f633f5b-eb70-4ab0-94d2-77c708561492', '8f6d8463-6933-425a-8027-e0e8164026c0', '92c783cf-964f-45fe-bcad-e30e72ffa06c', '92d8c15f-7fea-4944-bf7f-397e0ac6ae05', '93b70598-19b6-4ef8-a598-9bd970d9543f', '9601d6b7-9f1c-4691-9937-829b5b0c0cfc', '9654e251-f3b3-45b3-8f47-a3bf448edcd8', '96779c5c-4eee-4184-ae1c-182e6b5ccb6a', '974982ec-1ba6-4963-99b2-f948e805919b', '977346e4-36ca-49d2-acb5-bffa90038ecd', '97d968c4-3f16-4c6e-acb2-f79f092e9ab3', '9843c2d1-617b-45b8-9f26-3f932d08230a', '985d441d-f732-4ac6-8a9e-a9433dfc6fd1', '989d6a9b-96ec-413c-bc8b-03b96737e87d', '9a00652d-1cf5-4a25-8d2f-638c26577e59', '9a10b6c4-f6a8-4926-aca3-70eeaf9d3f12', '9a37c191-0101-48fa-9eec-97478b2c50c7', '9bf34c41-751f-4ef2-b150-b4e287b12eaa', '9c5ee5d7-0fd4-4d7e-ae3c-97019dab4d02', '9c6be407-612e-4e37-becb-34e62c64c7e2', '9d4b84dd-97d1-42b0-9748-59175ea6072d', '9ddf3c6d-567b-4e06-acd1-92371316bd38', '9e50bfee-7cce-4e72-9557-e40959c5fc51', '9e6f8790-2fea-4263-99c9-c41d8dbb0e68', '9ec8cb0b-c287-4823-9612-96befabdab60', '9edfdb68-e28e-4c2b-b028-299c5b838357', '9f11e0b2-3f1f-46b0-bcfb-72fd5eaff950', '9f34c1e6-7816-48db-b40a-13939be55452', '9f8b5deb-7ccb-4401-a482-1787e071a1d2', '9fd28a2e-3d6f-4772-b188-72e650e655e2', '9fe7663a-8c21-4992-844a-719d71672653', 'a0aa8a93-1d0f-4e33-b243-9e6b5423b781', 'a100a931-bfab-483d-a4f5-5dd1e23569e4', 'a18cfe07-81dc-4015-bf70-8f0d13eb9538', 'a1c28fe9-33ad-4f79-a17f-6d2efde763f7', 'a38fe2d4-f6ee-4315-923e-eb55ae9c27cc', 'a417181c-d65d-4c58-800b-f9be5fb7a5f8', 'a571367d-42ce-4bda-a218-0c38dc511dcc', 'a5bfccd4-6695-42aa-aba2-6d4b2ca248b4', 'a61180df-982c-4d59-b8b3-eedad055ac2e', 'a6a9c19c-4049-4312-9e36-aabd8751949c', 'a736a0ea-c35b-4c3a-b25c-5bf2bb2d2b21', 'a7a6eb6b-2225-4396-bb6b-2c0809993922', 'a7eedff6-c1cc-46aa-b6f4-a62eb95aef5b', 'a89a4471-e8b6-47ec-a2de-dc6887728072', 'aa146b6e-cb52-4fab-b0f4-8e46732b70af', 'aa7f4ebb-496f-4c02-95f9-f04913f7989d', 'ab3606e5-0041-4da0-9db5-6a30aedd8b83', 'ab79a298-1f1a-44da-a174-6a52ae8abfcd', 'aca29862-0b10-4c27-875f-048ff5a6cb82', 'acefe027-a17e-4a45-9120-44709818efce', 'ad5bb35b-1514-4dc9-a6c5-625233092167', 'adac54d4-8d11-43b8-bc83-c7dd215206ad', 'ae515ce2-01f4-4d78-95e4-5e5773e0cdb8', 'af4c823d-4355-437e-8dd2-1c9f2ad6e4a9', 'af8389c9-aaea-4dc3-89d1-1f2c6433a203', 'af8dc9ad-10a8-4287-8ece-a1d7a76d2abe', 'aff6bdf9-4388-46e6-9aa5-af5c6c88258d', 'b069f744-3fd9-4e02-ad38-0583bd6d3a0a', 'b0ee3fdf-040d-42a0-a800-f771b660232c', 'b3aab0e7-56f4-4d81-a151-c54dcd1a1500', 'b44d8928-48d6-4bba-8b13-9f1e6292cdad', 'b55aea96-cbe9-4c7b-9b0a-0501dd830ba8', 'b5b1edae-40b7-4934-8aad-69f53c50e541', 'b6a0c0e5-8176-4fa6-b4a4-8337af227159', 'b6b65f51-d813-4a3a-a3e1-45c5ecb241df', 'b767fe9b-7ca8-49e0-81fb-9da1a5aac489', 'b85a8e56-9929-40e0-9a3a-6517bfc9b26e', 'b910631a-1b0a-4356-9056-c4e0959e94a9', 'b988001c-6155-4fa8-8300-2ec01c12eeb1', 'ba3a9f18-41dd-4d16-9df4-110a17a0d276', 'ba9ee148-a3fa-4eac-b980-e849cf46fd86', 'bb86c2bb-d507-4d7f-bf85-c1ae261e7e52', 'be12ca6e-9cd9-406e-8926-15f53e4b273b', 'be6a20cf-a8f7-436f-9df9-8949164d4988', 'beb279ac-a873-4c6b-9d2b-3aae58e14ed1', 'bee10b9a-2130-48fe-ae17-ab10d9f1f4bf', 'bef37cd6-6a81-4b50-bc5a-c45d7fc706e4', 'bf94934d-1ea1-4439-8f1d-4ba3e7b2a4fb', 'c0406184-c75e-48c0-a7fe-5f7e4881b0fe', 'c0e1dce1-3466-415a-bde7-a6e371a3db86', 'c10071b2-8347-4e98-9221-26601f2e1119', 'c119d408-e64a-431d-a78e-f1092e71a10d', 'c17d6f5a-6c73-4728-b587-d4b7fa6b68f4', 'c210d178-68e0-4389-ad0a-5009d96c9d9c', 'c25046a6-e5ec-4a14-a100-1a83a7613848', 'c27aa893-2777-4e08-8f06-aa461da00da2', 'c2a4a2d9-eca3-49b5-b3ae-79e5880f9927', 'c398aa5c-a25e-4566-916d-dac6d67029bd', 'c430ba53-aff0-47f8-ae24-68aa399eccca', 'c5572d0d-9c94-463f-af56-b145343d12ea', 'c5bb3e14-3a0b-41f2-9b0f-2007cd12591f', 'c652774e-1bca-4176-ad89-85c9ae14dea6', 'c6fbcf1c-4c12-48eb-909d-f5be821e4c10', 'c729c35a-9a06-4efa-9659-863350da1e7f', 'c774cf4a-14a9-4432-9992-53fa6813189f', 'c7e04fef-d3b8-4b00-8099-56f32ef06ec7', 'c7e3bd82-2f61-4662-b255-ca9b66e20b95', 'c862eb1b-1650-4eb5-b12b-38f0854b8e69', 'c922c410-050d-440a-851f-37c6137a5289', 'c9b35493-5251-4401-a3cb-3d03b74b8adc', 'ca06626a-da2b-4f24-afd0-1696dede7a5d', 'ca0eeaaf-2aee-4e3e-9134-acca35d636ad', 'ca8a1da5-bfdd-4943-a6f0-0d7f342a74e4', 'ca937ead-99bb-4729-a245-a9d611938c49', 'cad280f7-6550-43c7-b99f-9812ef11bc3b', 'caf1b3eb-f04c-455a-9a2b-1a9324c0939d', 'cafc1d31-ae9e-43f7-9f09-82cd638e2c23', 'cb0d28b5-f911-4971-a214-1e5450f8689c', 'cb695122-8e79-4a20-b57f-941be521c258', 'cbb9b581-1b2e-40dd-8d27-47315786e33f', 'cde82355-e4c9-464c-a614-81cdb3d76664', 'ce070564-f0c6-4a54-8af5-24a1b7c7a723', 'ce13ce67-e783-4984-8d61-7f79187523ea', 'ce6769a7-1c41-4fa3-91c0-5f439a05f0cd', 'ce9ffec6-bd06-46b4-97ab-7004ca55001c', 'cf0a4bf8-048e-4214-becc-a9accaa8473e', 'cf2956ec-2abd-4a89-bd3e-d5aac2967f76', 'cf46d61a-5531-4895-99e6-a6efa4fb1e53', 'd17e2ed7-1824-419c-9654-f9322f9c40b9', 'd18b3668-7973-495b-80b9-69d390d24484', 'd1e76d2a-7795-427f-addf-441c62a2b523', 'd2f81138-e67b-4063-bdeb-3a4f5f9c31e0', 'd3715952-bab5-469e-9a6d-0fd168f439e9', 'd374a0fc-8776-4408-81e0-de6c6d65803b', 'd4447330-d508-4941-89a0-b491c5ad046e', 'd52f274e-53e6-44c9-b80a-8d28a6c7c518', 'd67fce41-f360-4513-a994-e8ef3970b2cd', 'd79e3ebd-82e3-4621-8744-3ffc2832ddc4', 'd84233c4-af6b-45a7-b6f9-1ec9627419dc', 'd84eb6b3-6e9a-4fa0-8934-3594a7518977', 'd8a483ac-1d71-4541-b105-24de473380e2', 'dafb9f04-a1a5-4f6f-a301-581bee07b5b6', 'db403540-296f-4a52-b04b-489c9f8116ef', 'db7f7a3e-04ce-4b70-9835-463b63057783', 'dbbc44d0-d0a9-4dfd-bcb4-b24c6beca64c', 'dccab6e2-af28-4920-adc4-46518380d7ba', 'dcdbf3fe-c017-40e6-8836-cd5e55980549', 'dce9ae9a-d056-400b-939f-e005468e6f3d', 'dd64f69c-5814-47ad-a5c1-91a0d4f9e88f', 'de3d213f-2367-4dc5-b4ee-14195aa97884', 'df038a40-1420-4fb5-a203-96a8d847ce9f', 'df436222-50d1-4975-861e-58ab06750067', 'df7d9377-c9eb-43d7-aabf-e64e532f2a33', 'df9e6b8f-e94b-4bac-a69e-9e98b1769c42', 'dfa0f7ae-dc05-41e4-8d19-b34cce2f180a', 'e12a4106-867d-4a90-aad8-eccc94018bee', 'e12d43dd-865f-4094-8e52-1f9c94f0fd2f', 'e1770dc3-f66e-44a3-af39-67076fea0763', 'e177ca03-2115-4ba8-b1a5-f642bf02a597', 'e1e1707c-d373-44fa-91d9-ef1580173ca7', 'e1e9d70e-c20b-47fe-89b3-8777b85ccc43', 'e271f539-e586-4ca0-b153-01c72400eaa3', 'e2739a4b-3d1e-4d20-91a8-e8c4583aff78', 'e292a036-e0a2-458b-8ee2-8e61272844a3', 'e2b3a139-ca66-438e-97b4-3f9524527951', 'e2ebbc05-0354-43dd-b948-492c297f1631', 'e300ffe2-45b9-4858-82cf-aedf292f9191', 'e3179d89-15c3-48e3-b4a0-5572b29e8209', 'e370fd52-8ea0-4be6-9305-ec272be1f48f', 'e529597a-a7ca-48ef-8f2d-812770e0e296', 'e5d80691-262f-4cd0-b655-46cd198b64d6', 'e5f8222d-2fca-40b9-8c6c-20c95bf7d6ec', 'e6c530c8-9b72-4bc6-ada8-a07ac383ea46', 'e702c980-5940-40db-b5f6-a790ab13e60b', 'e7184d2c-6ec3-4745-987f-698ab61c232d', 'e780af47-cae4-4eb3-92cc-0ee2d3760e00', 'e7f9d7d2-9144-4693-b36e-e5c7e1fce608', 'e848aea3-e268-4fec-89cf-f1f230acbd0b', 'e98f9879-3e90-4503-a35e-54d944e03f98', 'e9f2bcf1-90bc-4a82-957b-73d055b42582', 'ea6a949b-b0c9-4694-9fb5-cae9e9f915de', 'ea8138e6-df5a-4f84-aff5-5d1cb8ca5ed1', 'ea82504c-7b3e-4249-a1bc-c1ef516358c8', 'ea920754-ed98-43fc-aab4-10bc923ba16e', 'eaa04dfc-5d91-42a4-887a-08872b1cc1ad', 'ebc88e96-50b2-4ee8-82a0-01dc0bbd95b5', 'ebd0fa27-d468-4929-a624-e6e5daa3bb69', 'ec114cda-9ff6-4331-b9a6-515af5a69db0', 'ed81fae1-b91d-49a0-a664-b178c9c82b63', 'ee68ff9e-5a90-48bd-b8bf-b4a3e2e546a1', 'ee709491-ebdf-4e40-b4ab-4f79c3f39ec2', 'eef27075-5ae6-4c97-a7b5-a1c413bafffe', 'ef4ebd93-5865-40ca-b218-3c101b593717', 'efa2c03b-2ab9-4831-a493-2c90314e053a', 'efca4ba3-97ea-4f08-bfc9-a6f043685167', 'f075b1be-4eee-4356-bf09-4377e2a98ea1', 'f174b02c-7f7e-41e1-9071-de9bb0dab587', 'f1d500d0-d1f9-4a8a-b280-1a48a3826572', 'f1ec24ef-7cbc-4242-bd81-97a4f36baf99', 'f2d60e05-392e-4895-97ec-59d75e53148f', 'f36baa3e-7398-4795-af5a-b586f18ed73d', 'f3a7eb72-23c5-4c60-97d8-be9c7cb6285b', 'f46ac37d-ec89-426b-82d1-32e3b55b0edd', 'f4a4af09-7e73-44b5-b325-2ffff95e6e84', 'f58c38d8-7d74-46a1-8be2-cd259ff596da', 'f5b16119-4e0b-4144-95d7-a6cf3f744119', 'f6563ace-66c8-424e-a269-fa61b7e2edef', 'f7416fcd-4e5e-49ec-8194-975951227b9d', 'f79edf05-1c15-4303-9584-b421c5ada908', 'f7cc84c6-5286-441c-a6cd-ffb9acc6a686', 'f80e714b-544c-4aab-b426-7d17a8ac1f4d', 'f88d4b39-15f0-406c-80b2-30371157f821', 'f9347a59-21fa-46f8-b66b-574ad0f95668', 'f93d3935-7068-41ed-84ad-7b53b5460df5', 'f9474aed-548b-482b-a569-95d17bea44ba', 'f9774a7d-75d0-4783-8053-ce259920fc2e', 'fa2fc652-434e-49f5-9386-79109c77c2f6', 'faaa25a5-d105-4e2f-80c0-c79c0f3bea3d', 'fb0f4159-0145-451f-886b-a8b0564c982b', 'fb57a8c5-ec20-49fb-9fd7-b0c5187a8d89', 'fcae8836-1b96-412e-a603-65e8f7ff7198', 'fd270d3b-2470-4c28-b84c-4dfa2ca4edaa', 'fd7ab94c-96fc-4448-bb9d-2c7a86d777b9', 'fdc8cb46-17a6-439e-a1e3-6823ee1097cb', 'ffb9cc5d-dcad-40fd-acff-713f0db64edb', 'ffe1d362-f781-452c-a49b-21e4bcca4273'])"
      ]
     },
     "execution_count": 174,
     "metadata": {},
     "output_type": "execute_result"
    }
   ],
   "source": [
    "coverage.keys()"
   ]
  },
  {
   "cell_type": "code",
   "execution_count": 201,
   "metadata": {},
   "outputs": [
    {
     "data": {
      "text/plain": [
       "[<matplotlib.lines.Line2D at 0x7f035fbf6cf8>]"
      ]
     },
     "execution_count": 201,
     "metadata": {},
     "output_type": "execute_result"
    },
    {
     "data": {
      "image/png": "[encoded data removed]",
      "text/plain": [
       "<Figure size 432x288 with 1 Axes>"
      ]
     },
     "metadata": {
      "needs_background": "light"
     },
     "output_type": "display_data"
    }
   ],
   "source": [
    "r_id = '0c0dd3f7-6828-447b-ac53-1d118b0270a0'\n",
    "plt.plot(coverage[r_id])"
   ]
  },
  {
   "cell_type": "code",
   "execution_count": 202,
   "metadata": {},
   "outputs": [
    {
     "data": {
      "text/plain": [
       "'FGHIJKLMNOPQRABCDEFGHIJKLMNOPQRABFGHIJKLMNOPQRABFGHIJKLMNOPQRABCDEFGHIJKLMNOPQRABFGHIJKLMNOPQRABCDEFGHIJKLMNOPQRABCDEFGHIJKLMNOPQRABCDEFGHIJKLMNOPQRABCDEFGHIJKLMNOPQRABCDEFGHIJKLMNOPQRABFGHIJKLMNOPQRABCDEFGHIJKLMNOPQRABFGHIJKLMNOPQRABCDEFGHIJKLMNOPQRABCDEFGHIJKLMNOPQRABCDEFGHIJKLMNOPQRABCDEFGHIJKLMNOPQRABCDEFGHIJKLMNOPQRABCDEFGHIJKLMNOPQRABCDEFGHIJKLMNOPQRABCDEFGHIJKLMNOPQRABCDEFGHIJKLMNOPQRABCDEFGHIJKLMNOPQRABCDEFGHIJKLMNOPQRABCDEFGHIJKLMNOPQRABCDEFGHI=KLMNOPQRABCDEFGHIJKLMNOPQRABCDEFGHIJKLMNOPQRABCDEFGHIJKLMNOPQRABCDEFGHIJKLMNOPQRABCDEFGHIJKLMNOPQRABCDEFGHIJKLMNOPQRABCDEFGHIJKLMNOPQRABCDEFGHIJKLMNOPQRABCDEFGHIJKLMNOPQRABCDEFGHIJKLMNOPQRABFGHIJKLMNOPQRABCDEFGHIJKLMNOPQRABFGHIJKLMNOPQRABCDEFGHIJKLMNOPQRABCDEFGHIJKLMNOPQRABCDEFGHIJKLMNOPQRABCDEFGHI===MNOPQRABFGHIJKLMNOPQRABCDEFGHIJKLMNOPQRABFGHIJKLMNOPQRABCDEFGHIJKL'"
      ]
     },
     "execution_count": 202,
     "metadata": {},
     "output_type": "execute_result"
    }
   ],
   "source": [
    "lrd_report.records[r_id].string"
   ]
  },
  {
   "cell_type": "code",
   "execution_count": 203,
   "metadata": {},
   "outputs": [],
   "source": [
    "def find_zero_cov(coverage, lrd_report):\n",
    "    all_zero_cov = {}\n",
    "    for r_id in coverage:\n",
    "        zero_cov_flatten = np.where(coverage[r_id] == 0)[0]\n",
    "        if len(zero_cov_flatten) == 0:\n",
    "            all_zero_cov[r_id] = []\n",
    "            continue\n",
    "        zero_cov = []\n",
    "        zero_cov.append([zero_cov_flatten[0]])\n",
    "        for pos in zero_cov_flatten[1:]:\n",
    "            if pos == zero_cov[-1][-1] + 1:\n",
    "                zero_cov[-1].append(pos)\n",
    "            else:\n",
    "                zero_cov.append([pos])\n",
    "        \n",
    "        all_zero_cov[r_id] = [(x[0], x[-1]) for x in zero_cov]\n",
    "        \n",
    "    return all_zero_cov"
   ]
  },
  {
   "cell_type": "code",
   "execution_count": 204,
   "metadata": {},
   "outputs": [],
   "source": [
    "zero_cov = find_zero_cov(coverage=coverage,\n",
    "                         lrd_report=lrd_report)"
   ]
  },
  {
   "cell_type": "code",
   "execution_count": 220,
   "metadata": {},
   "outputs": [],
   "source": [
    "def find_path_debr(zero_cov, read_seq, k, db):\n",
    "    k -= 1\n",
    "    for st, en in zero_cov:\n",
    "        print(st, en)\n",
    "        if st < k or en > len(read_seq) - 1 - k:\n",
    "            continue\n",
    "        st_kmer, en_kmer = read_seq[st-k:st], read_seq[en+1:en+1+k]\n",
    "        # assert st_kmer in frequent_kmers\n",
    "        # assert en_kmer in frequent_kmers\n",
    "        assert read_seq[st-k+1:st+1] not in frequent_kmers\n",
    "        assert read_seq[en:en+k] not in frequent_kmers\n",
    "        assert st_kmer in db.graph.nodes\n",
    "        # print(st_kmer, en_kmer)\n",
    "        \n",
    "        u = st_kmer\n",
    "        kmers = [u]\n",
    "        failure = False\n",
    "        while u != en_kmer and not failure:\n",
    "            out_edges = list(db.graph.out_edges(u))\n",
    "            # print(len(kmers))\n",
    "            # print(out_edges)\n",
    "            if len(out_edges) == 1:\n",
    "                edge = out_edges[0]\n",
    "                assert edge[0] == u\n",
    "                u = edge[1]\n",
    "                kmers.append(u)\n",
    "            else:\n",
    "                failure = True\n",
    "                break\n",
    "        if not failure:\n",
    "            assert u == en_kmer\n",
    "            path = [kmers[0]]\n",
    "            for kmer in kmers[1:]:\n",
    "                path.append(kmer[-1])\n",
    "            path = ''.join(path)\n",
    "            print(kmers)\n",
    "            print(path)\n",
    "            print(read_seq[st-k:en+1+k])\n",
    "            assert path[:k] == st_kmer\n",
    "            assert path[-k:] == en_kmer\n",
    "            print(k, len(path), st, en)"
   ]
  },
  {
   "cell_type": "code",
   "execution_count": 221,
   "metadata": {},
   "outputs": [
    {
     "name": "stdout",
     "output_type": "stream",
     "text": [
      "0c0dd3f7-6828-447b-ac53-1d118b0270a0\n",
      "457 457\n",
      "['EFGHIJKLMNOPQRABCDEFGHIJKLMNOPQRABCDEFGHIJKLMNOPQRABCDEFGHIJKLMNOPQRABCDEFGHIJKLMNOPQRABCDEFGHIJKLMNOPQRABCDEFGHIJKLMNOPQRABCDEFGHIJKLMNOPQRABCDEFGHI', 'FGHIJKLMNOPQRABCDEFGHIJKLMNOPQRABCDEFGHIJKLMNOPQRABCDEFGHIJKLMNOPQRABCDEFGHIJKLMNOPQRABCDEFGHIJKLMNOPQRABCDEFGHIJKLMNOPQRABCDEFGHIJKLMNOPQRABCDEFGHIJ', 'GHIJKLMNOPQRABCDEFGHIJKLMNOPQRABCDEFGHIJKLMNOPQRABCDEFGHIJKLMNOPQRABCDEFGHIJKLMNOPQRABCDEFGHIJKLMNOPQRABCDEFGHIJKLMNOPQRABCDEFGHIJKLMNOPQRABCDEFGHIJK', 'HIJKLMNOPQRABCDEFGHIJKLMNOPQRABCDEFGHIJKLMNOPQRABCDEFGHIJKLMNOPQRABCDEFGHIJKLMNOPQRABCDEFGHIJKLMNOPQRABCDEFGHIJKLMNOPQRABCDEFGHIJKLMNOPQRABCDEFGHIJKL', 'IJKLMNOPQRABCDEFGHIJKLMNOPQRABCDEFGHIJKLMNOPQRABCDEFGHIJKLMNOPQRABCDEFGHIJKLMNOPQRABCDEFGHIJKLMNOPQRABCDEFGHIJKLMNOPQRABCDEFGHIJKLMNOPQRABCDEFGHIJKLM', 'JKLMNOPQRABCDEFGHIJKLMNOPQRABCDEFGHIJKLMNOPQRABCDEFGHIJKLMNOPQRABCDEFGHIJKLMNOPQRABCDEFGHIJKLMNOPQRABCDEFGHIJKLMNOPQRABCDEFGHIJKLMNOPQRABCDEFGHIJKLMN', 'KLMNOPQRABCDEFGHIJKLMNOPQRABCDEFGHIJKLMNOPQRABCDEFGHIJKLMNOPQRABCDEFGHIJKLMNOPQRABCDEFGHIJKLMNOPQRABCDEFGHIJKLMNOPQRABCDEFGHIJKLMNOPQRABCDEFGHIJKLMNO']\n",
      "EFGHIJKLMNOPQRABCDEFGHIJKLMNOPQRABCDEFGHIJKLMNOPQRABCDEFGHIJKLMNOPQRABCDEFGHIJKLMNOPQRABCDEFGHIJKLMNOPQRABCDEFGHIJKLMNOPQRABCDEFGHIJKLMNOPQRABCDEFGHIJKLMNO\n",
      "EFGHIJKLMNOPQRABCDEFGHIJKLMNOPQRABCDEFGHIJKLMNOPQRABCDEFGHIJKLMNOPQRABCDEFGHIJKLMNOPQRABCDEFGHIJKLMNOPQRABCDEFGHIJKLMNOPQRABCDEFGHIJKLMNOPQRABCDEFGHI=KLMNOPQRABCDEFGHIJKLMNOPQRABCDEFGHIJKLMNOPQRABCDEFGHIJKLMNOPQRABCDEFGHIJKLMNOPQRABCDEFGHIJKLMNOPQRABCDEFGHIJKLMNOPQRABCDEFGHIJKLMNOPQRABCDEFGHIJKLMNO\n",
      "149 155 457 457\n",
      "757 825\n"
     ]
    }
   ],
   "source": [
    "#for r_id in zero_cov:\n",
    "print(r_id)\n",
    "find_path_debr(zero_cov[r_id], lrd_report.records[r_id].string, k=k, db=db)"
   ]
  },
  {
   "cell_type": "code",
   "execution_count": 222,
   "metadata": {},
   "outputs": [
    {
     "data": {
      "text/plain": [
       "'EFGHIJKLMNOPQRABCDEFGHIJKLMNOPQRABCDEFGHIJKLMNOPQRABCDEFGHIJKLMNOPQRABCDEFGHIJKLMNOPQRABCDEFGHIJKLMNOPQRABCDEFGHIJKLMNOPQRABCDEFGHIJKLMNOPQRABCDEFGHIJKLMNOPQRABCDEFGHIJKLMNOPQRABCDEFGHIJKLMNOPQRABCDEFGHIJKLMNOPQRABCDEFGHIJKLMNOPQRABCDEFGHIJKLMNOPQRABCDEFGHIJKLMNOPQRABCDEFGHIJKLMNOPQRABCDEFGHIJKLMNO'"
      ]
     },
     "execution_count": 222,
     "metadata": {},
     "output_type": "execute_result"
    }
   ],
   "source": [
    "\"EFGHIJKLMNOPQRABCDEFGHIJKLMNOPQRABCDEFGHIJKLMNOPQRABCDEFGHIJKLMNOPQRABCDEFGHIJKLMNOPQRABCDEFGHIJKLMNOPQRABCDEFGHIJKLMNOPQRABCDEFGHIJKLMNOPQRABCDEFGHIJKLMNOPQRABCDEFGHIJKLMNOPQRABCDEFGHIJKLMNOPQRABCDEFGHIJKLMNOPQRABCDEFGHIJKLMNOPQRABCDEFGHIJKLMNOPQRABCDEFGHIJKLMNOPQRABCDEFGHIJKLMNOPQRABCDEFGHIJKLMNO\"\n",
    "\n"
   ]
  },
  {
   "cell_type": "code",
   "execution_count": null,
   "metadata": {},
   "outputs": [],
   "source": []
  }
 ],
 "metadata": {
  "kernelspec": {
   "display_name": "Python 3",
   "language": "python",
   "name": "python3"
  },
  "language_info": {
   "codemirror_mode": {
    "name": "ipython",
    "version": 3
   },
   "file_extension": ".py",
   "mimetype": "text/x-python",
   "name": "python",
   "nbconvert_exporter": "python",
   "pygments_lexer": "ipython3",
   "version": "3.6.7"
  }
 },
 "nbformat": 4,
 "nbformat_minor": 2
}
