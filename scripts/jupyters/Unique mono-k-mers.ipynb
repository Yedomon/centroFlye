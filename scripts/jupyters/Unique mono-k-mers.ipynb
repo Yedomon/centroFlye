{
 "cells": [
  {
   "cell_type": "code",
   "execution_count": 1,
   "metadata": {},
   "outputs": [],
   "source": [
    "import sys\n",
    "sys.path.append('..')\n",
    "import edlib\n",
    "import numpy as np\n",
    "from collections import Counter, defaultdict\n",
    "import operator\n",
    "from string import ascii_uppercase\n",
    "\n",
    "\n",
    "from lrd_parser import LRD_Report\n",
    "from utils.bio import hamming_distance, identity_shift, OverlapAlignment, compress_homopolymer\n",
    "import networkx as nx\n",
    "\n",
    "import matplotlib\n",
    "%matplotlib inline \n",
    "import matplotlib.pyplot as plt\n",
    "from matplotlib.ticker import MaxNLocator\n",
    "\n",
    "from ndex2.nice_cx_network import NiceCXNetwork\n",
    "import ndex2.client as nc\n",
    "import ndex2\n",
    "\n",
    "%load_ext autoreload\n",
    "%autoreload 2"
   ]
  },
  {
   "cell_type": "markdown",
   "metadata": {},
   "source": [
    "# Ref unique k-mers"
   ]
  },
  {
   "cell_type": "code",
   "execution_count": 2,
   "metadata": {},
   "outputs": [],
   "source": [
    "man_assembly_fn = \"/Poppy/abzikadze/centroFlye/centroFlye_repo/data/D6Z1/CEN6_ManVERSION3.tsv\"\n",
    "\n",
    "units = []\n",
    "with open(man_assembly_fn) as f:\n",
    "    for line in f:\n",
    "        line = line.strip().split('\\t')\n",
    "        st, en = int(line[-2]), int(line[-1])\n",
    "        if en < 17:\n",
    "            en -= 1\n",
    "        units.append((st, en))\n",
    "        \n",
    "def units2monomers(units):\n",
    "    monomers = []\n",
    "    for (s, e) in units:\n",
    "        monomers.append(ascii_uppercase[s:e+1])\n",
    "    monomers = ''.join(monomers)\n",
    "    return monomers\n",
    "\n",
    "ref_monomers = units2monomers(units)\n",
    "\n",
    "k = 200\n",
    "ref_kmers = [ref_monomers[i:i+k] for i in range(len(ref_monomers) - k + 1)]\n",
    "\n",
    "ref_kmers = Counter(ref_kmers)\n",
    "set_ref_kmers = set(ref_kmers.keys())\n",
    "ref_unique_kmers = set(kmer for kmer, cnt in ref_kmers.items() if cnt == 1)"
   ]
  },
  {
   "cell_type": "code",
   "execution_count": 3,
   "metadata": {},
   "outputs": [
    {
     "data": {
      "text/plain": [
       "8802"
      ]
     },
     "execution_count": 3,
     "metadata": {},
     "output_type": "execute_result"
    }
   ],
   "source": [
    "len(ref_unique_kmers)"
   ]
  },
  {
   "cell_type": "code",
   "execution_count": 4,
   "metadata": {},
   "outputs": [],
   "source": [
    "def get_kmer_pos(string, k):\n",
    "    pos = defaultdict(list)\n",
    "    for i in range(len(string)-k+1):\n",
    "        pos[string[i:i+k]].append(i)\n",
    "    return pos\n",
    "\n",
    "ref_pos = get_kmer_pos(string=ref_monomers, k=k)"
   ]
  },
  {
   "cell_type": "markdown",
   "metadata": {},
   "source": [
    "# Recruitment of unique k-mers"
   ]
  },
  {
   "cell_type": "code",
   "execution_count": 5,
   "metadata": {},
   "outputs": [],
   "source": [
    "lrd_report_fn = '/Poppy/abzikadze/centroFlye/centroFlye_repo/experiments/20191023/lrd_d6z1_rel3_Karen/decomposition.tsv'\n",
    "monomers_fn = \"/Poppy/abzikadze/tandem_flye/data/human/isolated_centromeres/extracted_HORs/CEN6/monomers/inferred_monomers_single.fa\"\n",
    "\n",
    "lrd_report = LRD_Report(lrd_report_fn=lrd_report_fn, monomers_fn=monomers_fn)"
   ]
  },
  {
   "cell_type": "code",
   "execution_count": 6,
   "metadata": {},
   "outputs": [],
   "source": [
    "def get_rare_mono_kmers(lrd_report, k, min_mult, max_mult):\n",
    "    all_kmers = Counter()\n",
    "    kmer_locations = defaultdict(list)\n",
    "    for r_id, record in lrd_report.records.items():\n",
    "        string = record.string\n",
    "        read_kmers = Counter()\n",
    "        read_kmer_locations = defaultdict(list)\n",
    "        for i in range(len(string)-k+1):\n",
    "            kmer = string[i:i+k]\n",
    "            if '=' not in kmer:\n",
    "                read_kmers[kmer] += 1\n",
    "                read_kmer_locations[kmer].append(i)\n",
    "        for kmer, cnt in read_kmers.items():\n",
    "            if cnt == 1:\n",
    "                all_kmers[kmer] += 1\n",
    "                kmer_locations[kmer].append((r_id, read_kmer_locations[kmer][0]))\n",
    "                \n",
    "    rare_kmers = {kmer: cnt for kmer, cnt in all_kmers.items()\n",
    "                  if min_mult <= cnt <= max_mult}\n",
    "    reads2rare_kmers = defaultdict(list)\n",
    "    for kmer in rare_kmers:\n",
    "        locs = kmer_locations[kmer]\n",
    "        for loc in locs:\n",
    "            r_id, coordinate = loc\n",
    "            reads2rare_kmers[r_id].append(coordinate)\n",
    "    for r_id in reads2rare_kmers:\n",
    "        reads2rare_kmers[r_id].sort()\n",
    "    return rare_kmers, reads2rare_kmers, all_kmers\n"
   ]
  },
  {
   "cell_type": "code",
   "execution_count": 7,
   "metadata": {},
   "outputs": [],
   "source": [
    "rare_min_mult, rare_max_mult = 5, 15\n",
    "\n",
    "rare_kmers, reads2rare_kmers, all_read_kmers = \\\n",
    "    get_rare_mono_kmers(lrd_report, k=k, min_mult=rare_min_mult, max_mult=rare_max_mult)"
   ]
  },
  {
   "cell_type": "markdown",
   "metadata": {
    "variables": {
     "k": "200"
    }
   },
   "source": [
    "unique reference {{k}}-mers not present in reads"
   ]
  },
  {
   "cell_type": "code",
   "execution_count": 8,
   "metadata": {},
   "outputs": [
    {
     "data": {
      "text/plain": [
       "2687"
      ]
     },
     "execution_count": 8,
     "metadata": {},
     "output_type": "execute_result"
    }
   ],
   "source": [
    "sum(all_read_kmers[kmer] == 0 for kmer in ref_unique_kmers)"
   ]
  },
  {
   "cell_type": "code",
   "execution_count": 24,
   "metadata": {},
   "outputs": [],
   "source": [
    "uniqueRef_absentReads_pos = [ref_pos[kmer] for kmer in ref_unique_kmers if all_read_kmers[kmer] == 0]\n",
    "uniqueRef_absentReads_pos = sorted(sum(uniqueRef_absentReads_pos, []))"
   ]
  },
  {
   "cell_type": "code",
   "execution_count": 25,
   "metadata": {},
   "outputs": [
    {
     "data": {
      "text/plain": [
       "<BarContainer object of 2687 artists>"
      ]
     },
     "execution_count": 25,
     "metadata": {},
     "output_type": "execute_result"
    },
    {
     "data": {
      "image/png": "[encoded data removed]",
      "text/plain": [
       "<Figure size 432x288 with 1 Axes>"
      ]
     },
     "metadata": {
      "needs_background": "light"
     },
     "output_type": "display_data"
    }
   ],
   "source": [
    "plt.bar(uniqueRef_absentReads_pos, height=1)"
   ]
  },
  {
   "cell_type": "code",
   "execution_count": 9,
   "metadata": {},
   "outputs": [
    {
     "data": {
      "text/plain": [
       "(8802, 4099, 2369, 6634)"
      ]
     },
     "execution_count": 9,
     "metadata": {},
     "output_type": "execute_result"
    }
   ],
   "source": [
    "set_rare_kmers = set(rare_kmers.keys())\n",
    "len(ref_unique_kmers), len(set_rare_kmers & ref_unique_kmers), len(set_rare_kmers - set_ref_kmers), len(set_rare_kmers)"
   ]
  },
  {
   "cell_type": "markdown",
   "metadata": {},
   "source": [
    "Need to create a plot of dependency of everything depending on parameters"
   ]
  },
  {
   "cell_type": "code",
   "execution_count": 10,
   "metadata": {},
   "outputs": [],
   "source": [
    "def get_dist_graph(lrd_report, reads2rare_kmers, k):\n",
    "    dist_graph = defaultdict(lambda: defaultdict(lambda: defaultdict(int)))\n",
    "    for r_id, coords in reads2rare_kmers.items():\n",
    "        print(r_id)\n",
    "        seq = lrd_report.records[r_id].string\n",
    "        for c1 in coords:\n",
    "            for c2 in coords:\n",
    "                kmer1 = seq[c1:c1+k]\n",
    "                kmer2 = seq[c2:c2+k]\n",
    "                dist_graph[kmer1][kmer2][c2-c1] += 1\n",
    "    return dist_graph"
   ]
  },
  {
   "cell_type": "code",
   "execution_count": 11,
   "metadata": {
    "scrolled": true
   },
   "outputs": [
    {
     "name": "stdout",
     "output_type": "stream",
     "text": [
      "00739941-c14c-40bd-9fad-fabff753795b\n",
      "35e23dc0-4219-4951-b491-be041f325bf3\n",
      "42affd5a-e784-44ae-8899-d978b5a8ee10\n",
      "6e54ff5e-7a55-4dad-bae3-004d255dddbd\n",
      "7e9301cd-6184-44f7-9db4-849ac08d33a5\n",
      "8e85dd90-8045-4df1-ba7b-b6b576deaa4d\n",
      "9f11e0b2-3f1f-46b0-bcfb-72fd5eaff950\n",
      "a7a6eb6b-2225-4396-bb6b-2c0809993922\n",
      "ab79a298-1f1a-44da-a174-6a52ae8abfcd\n",
      "ca0eeaaf-2aee-4e3e-9134-acca35d636ad\n",
      "db403540-296f-4a52-b04b-489c9f8116ef\n",
      "f93d3935-7068-41ed-84ad-7b53b5460df5\n",
      "8f633f5b-eb70-4ab0-94d2-77c708561492\n",
      "e1e9d70e-c20b-47fe-89b3-8777b85ccc43\n",
      "df9e6b8f-e94b-4bac-a69e-9e98b1769c42\n",
      "df436222-50d1-4975-861e-58ab06750067\n",
      "c0e1dce1-3466-415a-bde7-a6e371a3db86\n",
      "871dbdd1-62eb-4c4b-b2fa-000febf9ba16\n",
      "31700b15-5b3d-4d8c-b047-7836cb183613\n",
      "42da64e4-e647-4426-b497-cda32cd3ca28\n",
      "5da9ab31-d608-4581-b5fd-37acce77300e\n",
      "ea920754-ed98-43fc-aab4-10bc923ba16e\n",
      "747e0d59-fbd1-4378-bc82-77287e4bc114\n",
      "e271f539-e586-4ca0-b153-01c72400eaa3\n",
      "01f80610-395e-4ef8-93d0-526989b8cb53\n",
      "079aa8c8-90a4-4fe8-af37-d9170f7d82b7\n",
      "794fcdf4-9216-42c1-abf6-e151c28caa2b\n",
      "811defc1-9588-4647-a195-9893efee03f8\n",
      "8b7715a3-3c05-4dc2-a9fa-42ad1a4f184e\n",
      "8d782575-f417-4185-898f-d9ed268f9e09\n",
      "8e82bf8e-7a0c-4f8b-8f78-c80abf0f995f\n",
      "a38fe2d4-f6ee-4315-923e-eb55ae9c27cc\n",
      "bb86c2bb-d507-4d7f-bf85-c1ae261e7e52\n",
      "ca937ead-99bb-4729-a245-a9d611938c49\n",
      "ce6769a7-1c41-4fa3-91c0-5f439a05f0cd\n",
      "d1e76d2a-7795-427f-addf-441c62a2b523\n",
      "dd64f69c-5814-47ad-a5c1-91a0d4f9e88f\n",
      "efa2c03b-2ab9-4831-a493-2c90314e053a\n",
      "f6563ace-66c8-424e-a269-fa61b7e2edef\n",
      "ea6a949b-b0c9-4694-9fb5-cae9e9f915de\n",
      "3ca418ed-c4eb-4ae3-b52b-48a6df3b1d75\n",
      "e177ca03-2115-4ba8-b1a5-f642bf02a597\n",
      "aff6bdf9-4388-46e6-9aa5-af5c6c88258d\n",
      "4b6070e0-4b25-49a4-9123-c74cb4a5cf86\n",
      "14eb3993-37ae-468e-9e48-c2eeeb996ed3\n",
      "c5bb3e14-3a0b-41f2-9b0f-2007cd12591f\n",
      "356056be-00d7-4e1a-b6d5-7a0865f3aefe\n",
      "805dd6c7-fb61-484c-a665-287de030251c\n",
      "f36baa3e-7398-4795-af5a-b586f18ed73d\n",
      "f1d500d0-d1f9-4a8a-b280-1a48a3826572\n",
      "0edd79ac-1cdd-4677-8898-71aae0d5c1c3\n",
      "4120b935-18e3-4292-852d-40c348acb661\n",
      "a736a0ea-c35b-4c3a-b25c-5bf2bb2d2b21\n",
      "c9b35493-5251-4401-a3cb-3d03b74b8adc\n",
      "cf2956ec-2abd-4a89-bd3e-d5aac2967f76\n",
      "f88d4b39-15f0-406c-80b2-30371157f821\n",
      "fcae8836-1b96-412e-a603-65e8f7ff7198\n",
      "2b30c216-e7bb-465a-bc1b-1847312ecdc4\n",
      "7c56d9af-940e-452e-8cff-f55c0fca5451\n",
      "8c0214da-d264-4072-94d8-24eb17d5b59b\n",
      "8e08bc04-b817-4c1a-a3bf-d8cb7e338dc4\n",
      "7e466664-3a39-4e9c-8b2e-d07ecafd6769\n",
      "385826e5-a023-4543-966c-b69c8f2501a5\n",
      "c6fbcf1c-4c12-48eb-909d-f5be821e4c10\n",
      "5a4200d7-6028-47b3-8c1c-54a13d13fcbb\n",
      "3ca9bb28-d5dc-4081-939b-3da4f258f0d0\n",
      "535aa52e-6acc-4f47-af7f-e728e2b8c0bc\n",
      "459cabbd-30ad-4a2a-985a-5983b49e50ff\n",
      "0352811e-b17c-4fc1-a73f-99757d30745c\n",
      "3d6a3d5b-3272-4d17-813b-58e27a214c40\n",
      "46a4165e-6315-4339-9d4e-3af1ca00b3fc\n",
      "b55aea96-cbe9-4c7b-9b0a-0501dd830ba8\n",
      "b5b1edae-40b7-4934-8aad-69f53c50e541\n",
      "f9774a7d-75d0-4783-8053-ce259920fc2e\n",
      "46bad76d-fcf7-4816-a7c2-ba08e219ea9d\n",
      "6d234dca-6700-4ac0-8cb2-31bf734d43df\n",
      "03e1fc3d-8e77-4170-94e1-3711db044f8b\n",
      "11416399-75e7-4251-824f-c17721a01605\n",
      "1b4bd09e-07f3-4455-b041-c4599b6fbe3d\n",
      "2c2202da-61a9-489e-bdc9-8e04e504278f\n",
      "30d41a6e-b21b-4ac0-95d9-4f953e4bb2d9\n",
      "343a21b5-fd1f-486f-bf0f-5d4cabcda6e9\n",
      "3545652f-4bd9-4d72-97ed-9a10cef9a1f1\n",
      "6e3d2a63-0182-4638-9e24-0f600e879cf7\n",
      "96779c5c-4eee-4184-ae1c-182e6b5ccb6a\n",
      "9a10b6c4-f6a8-4926-aca3-70eeaf9d3f12\n",
      "a6a9c19c-4049-4312-9e36-aabd8751949c\n",
      "eef27075-5ae6-4c97-a7b5-a1c413bafffe\n",
      "f3a7eb72-23c5-4c60-97d8-be9c7cb6285b\n",
      "32aca0e3-fbd9-4730-abc9-19fd94edf078\n",
      "1d0706f6-cc39-4a05-a4fd-2ee7e1674457\n",
      "82911af2-7474-4bce-8ea7-ee12600cac0a\n",
      "04203cad-4a32-4b9c-b7dd-c8603e54b46b\n",
      "0d9cde69-8b6a-469d-bcde-dd1d96c040ad\n",
      "0fa7663b-7fd0-459f-955b-f03284630e02\n",
      "26898ff3-8db1-4af4-84c9-8a2976973cd6\n",
      "288dc332-ae38-45ee-8fa6-8a9616d28aaa\n",
      "7ca38161-b3be-4373-8fd1-42c1d62f7208\n",
      "80c337c1-216d-46b5-8c69-07d2046d6fac\n",
      "8f6d8463-6933-425a-8027-e0e8164026c0\n",
      "b767fe9b-7ca8-49e0-81fb-9da1a5aac489\n",
      "c430ba53-aff0-47f8-ae24-68aa399eccca\n",
      "ca8a1da5-bfdd-4943-a6f0-0d7f342a74e4\n",
      "d374a0fc-8776-4408-81e0-de6c6d65803b\n",
      "dbbc44d0-d0a9-4dfd-bcb4-b24c6beca64c\n",
      "050b88c4-e343-431d-99dc-4b8151b4adef\n",
      "4f276aed-4110-4238-8a18-c70c6bb066f5\n",
      "8dcb222b-3cf7-4252-b46e-553bf3c84bfd\n",
      "e2739a4b-3d1e-4d20-91a8-e8c4583aff78\n",
      "47d3eef9-a6f3-4442-955c-b56c312e11f8\n",
      "13bb6c69-9bd3-4fe1-9cfe-8dbe5c518c38\n",
      "169d4607-e4a6-4aa5-afab-c26fa3248f28\n",
      "e529597a-a7ca-48ef-8f2d-812770e0e296\n",
      "345287e0-b556-4a73-b28d-961c95fa7747\n",
      "3d0bd9d9-7656-43d6-9929-32a0151bd996\n",
      "53476436-5fdf-4cff-b14f-d0445d6ac7c9\n",
      "6ed1b965-be64-413f-bbce-cc7aa882dc07\n",
      "7b5ed51a-6c37-4a73-94a0-ea268030cd62\n",
      "0540aa3e-f34b-4e74-a5e5-884b69594a0d\n",
      "3a48f0c7-da6a-4f08-857d-f0843fdacaf5\n",
      "5ccc5135-2ef3-4818-a040-0df3b7a54950\n",
      "66b98fd1-93d1-4de7-bf05-0d98c19402ac\n",
      "6c38b9e7-1f4b-4f6d-a732-09b5aaf2b22e\n",
      "7e28e345-ded4-429a-86fb-4380067400b9\n",
      "81509345-296d-4e7d-9f59-b81d0cf7cb51\n",
      "985d441d-f732-4ac6-8a9e-a9433dfc6fd1\n",
      "a7eedff6-c1cc-46aa-b6f4-a62eb95aef5b\n",
      "d17e2ed7-1824-419c-9654-f9322f9c40b9\n",
      "e292a036-e0a2-458b-8ee2-8e61272844a3\n",
      "f5b16119-4e0b-4144-95d7-a6cf3f744119\n",
      "ffe1d362-f781-452c-a49b-21e4bcca4273\n",
      "1eb4d06c-7940-405d-b6c8-dfbfa09e409d\n",
      "057047e6-eb15-4d39-b4f6-473ecba0558a\n",
      "267678a8-d2b5-49ec-a1b4-a5d0cca76626\n",
      "6477d4cb-74ae-4152-95fb-717a34e6dd64\n",
      "64b137f0-6d19-47ba-8c2e-5043aedaf494\n",
      "80e43596-26bd-4086-bb44-20f57549d706\n",
      "ad5bb35b-1514-4dc9-a6c5-625233092167\n",
      "b85a8e56-9929-40e0-9a3a-6517bfc9b26e\n",
      "bee10b9a-2130-48fe-ae17-ab10d9f1f4bf\n",
      "cde82355-e4c9-464c-a614-81cdb3d76664\n",
      "cf0a4bf8-048e-4214-becc-a9accaa8473e\n",
      "d18b3668-7973-495b-80b9-69d390d24484\n",
      "d67fce41-f360-4513-a994-e8ef3970b2cd\n",
      "dce9ae9a-d056-400b-939f-e005468e6f3d\n",
      "f9347a59-21fa-46f8-b66b-574ad0f95668\n",
      "81a9d35a-69d5-4616-b8dd-a76f0d764648\n",
      "05a4fa6a-38b1-40d6-916e-886ad1fb050b\n",
      "2150aca2-413b-4207-ab2d-ac2f390a625d\n",
      "25c395b8-2d54-42bc-8378-2298021fa871\n",
      "571ca8b6-4d97-431c-985a-20b85136ab41\n",
      "6a68a785-4cca-4dcd-be48-bda6533fe2d3\n",
      "74058d14-e46a-401a-9125-e5941971408f\n",
      "814fadd3-b302-42f2-b650-d53315b7844e\n",
      "8c2fad5b-b459-4519-87a5-b83bf372e3db\n",
      "aa146b6e-cb52-4fab-b0f4-8e46732b70af\n",
      "d4447330-d508-4941-89a0-b491c5ad046e\n",
      "e7f9d7d2-9144-4693-b36e-e5c7e1fce608\n",
      "f7416fcd-4e5e-49ec-8194-975951227b9d\n",
      "e98f9879-3e90-4503-a35e-54d944e03f98\n",
      "b3aab0e7-56f4-4d81-a151-c54dcd1a1500\n",
      "23bd770d-5c4c-4080-81e5-c51ef2ed5959\n",
      "35d1c770-9b37-4f54-abfa-6b59f62c912f\n",
      "75d67010-b675-4529-bee0-70051c4009e5\n",
      "85ba9606-526c-4ace-a456-428d66cd332c\n",
      "92c783cf-964f-45fe-bcad-e30e72ffa06c\n",
      "a61180df-982c-4d59-b8b3-eedad055ac2e\n",
      "c5572d0d-9c94-463f-af56-b145343d12ea\n",
      "e1e1707c-d373-44fa-91d9-ef1580173ca7\n",
      "1de6e2f4-1900-438b-9239-2ea85e25bd1a\n",
      "7aeafbcb-6498-4d7b-92b7-20351a352c58\n",
      "83b35def-7247-49ce-962f-2f52ffa02b6d\n",
      "977346e4-36ca-49d2-acb5-bffa90038ecd\n",
      "ebc88e96-50b2-4ee8-82a0-01dc0bbd95b5\n",
      "0c849de1-fbde-4ff4-bf9e-a7675a011e11\n",
      "e848aea3-e268-4fec-89cf-f1f230acbd0b\n",
      "9843c2d1-617b-45b8-9f26-3f932d08230a\n",
      "ba9ee148-a3fa-4eac-b980-e849cf46fd86\n",
      "878ae386-837d-4fee-8e88-efd450f04d73\n",
      "6788be2f-f157-43a1-91e4-f9b44e4f9a12\n",
      "e1770dc3-f66e-44a3-af39-67076fea0763\n",
      "05c5a912-42ad-4a57-ae81-0a318dc8c6b7\n",
      "9654e251-f3b3-45b3-8f47-a3bf448edcd8\n",
      "d52f274e-53e6-44c9-b80a-8d28a6c7c518\n",
      "d84eb6b3-6e9a-4fa0-8934-3594a7518977\n",
      "4605f02a-cc88-45b0-8ba9-0d71a4722482\n",
      "13b093b1-6dd5-4fbe-9a41-0c927ef131ff\n",
      "9f34c1e6-7816-48db-b40a-13939be55452\n",
      "e780af47-cae4-4eb3-92cc-0ee2d3760e00\n",
      "c7e3bd82-2f61-4662-b255-ca9b66e20b95\n",
      "160f308a-c1c5-44db-8cc4-7fcf2ff5aa8d\n",
      "45e876d6-d57f-494d-8e2e-164828eef754\n",
      "8d93d2e7-a2bb-4ca7-a54b-920799c28dd8\n",
      "fb57a8c5-ec20-49fb-9fd7-b0c5187a8d89\n",
      "dafb9f04-a1a5-4f6f-a301-581bee07b5b6\n",
      "8478a0be-b40f-43d5-b6cd-a4df5b6d4bcb\n",
      "87eba8f7-4244-4414-8120-2072c1235ff9\n",
      "5bddaf38-49a3-4c0f-a57d-78f8cf3dd325\n",
      "7961926d-fd27-4842-9c67-65050f1f6aaf\n",
      "a0aa8a93-1d0f-4e33-b243-9e6b5423b781\n",
      "37f361b5-ef96-4dc3-a68e-1a25cca9075d\n",
      "4578e1fd-b534-433e-87af-9e88fbdf48c1\n",
      "4d4353d9-0078-40fa-ac0d-1b3ee5c86319\n",
      "93b70598-19b6-4ef8-a598-9bd970d9543f\n",
      "989d6a9b-96ec-413c-bc8b-03b96737e87d\n",
      "caf1b3eb-f04c-455a-9a2b-1a9324c0939d\n",
      "dcdbf3fe-c017-40e6-8836-cd5e55980549\n",
      "ee68ff9e-5a90-48bd-b8bf-b4a3e2e546a1\n",
      "f58c38d8-7d74-46a1-8be2-cd259ff596da\n",
      "f79edf05-1c15-4303-9584-b421c5ada908\n",
      "ce13ce67-e783-4984-8d61-7f79187523ea\n",
      "ae515ce2-01f4-4d78-95e4-5e5773e0cdb8\n",
      "ce9ffec6-bd06-46b4-97ab-7004ca55001c\n",
      "08a68948-5d96-4ed2-9632-c86d0200d914\n",
      "1923a770-53ef-4038-bf6e-e2bfece248df\n",
      "28c20ccf-1628-4edb-9382-36b011dbdd3a\n",
      "3bcc8728-dcc2-49d2-9b1f-f61609e3d373\n",
      "4fe14776-2f0f-47b3-84a6-460839569e79\n",
      "5ae8a1b8-626c-4189-a795-3f16956e6121\n",
      "63fa9a7e-2c00-49fb-905d-27fea8181b9e\n",
      "68c5a50e-34de-430b-bd0f-feb62429620a\n",
      "6b8010a0-1b7a-469b-acf1-dd9d34250137\n",
      "7d1b767b-ca76-4187-998c-6677cdaa5c01\n",
      "9a00652d-1cf5-4a25-8d2f-638c26577e59\n",
      "9e6f8790-2fea-4263-99c9-c41d8dbb0e68\n",
      "beb279ac-a873-4c6b-9d2b-3aae58e14ed1\n",
      "d79e3ebd-82e3-4621-8744-3ffc2832ddc4\n",
      "ed81fae1-b91d-49a0-a664-b178c9c82b63\n",
      "0c0dd3f7-6828-447b-ac53-1d118b0270a0\n",
      "0aca72fc-0a1e-416a-beb5-6b4bde55eb81\n",
      "10b78685-fe40-49f4-bb76-848371912dea\n",
      "7c28cc24-1d36-456f-a02c-bef0849fbf2a\n",
      "83a800ae-fe30-456c-b2d4-63aea374b2f1\n",
      "86fdd7a8-71b5-46fa-90d2-5e6888ae2289\n"
     ]
    },
    {
     "name": "stdout",
     "output_type": "stream",
     "text": [
      "e300ffe2-45b9-4858-82cf-aedf292f9191\n",
      "ea8138e6-df5a-4f84-aff5-5d1cb8ca5ed1\n",
      "ee709491-ebdf-4e40-b4ab-4f79c3f39ec2\n",
      "efca4ba3-97ea-4f08-bfc9-a6f043685167\n",
      "faaa25a5-d105-4e2f-80c0-c79c0f3bea3d\n",
      "31b10227-6059-4013-a693-6254726fab55\n",
      "88736f6e-176d-4f3e-b044-8c9f5003ac56\n",
      "182f1138-55b1-45dc-8230-e052f3aa6a44\n",
      "0b1f944b-90f7-4e17-a1cd-f02d38d0f84c\n",
      "44d4d9b7-8566-446a-b6aa-0811c2eec0b3\n",
      "a5bfccd4-6695-42aa-aba2-6d4b2ca248b4\n",
      "e5f8222d-2fca-40b9-8c6c-20c95bf7d6ec\n",
      "fd270d3b-2470-4c28-b84c-4dfa2ca4edaa\n",
      "0b928976-0529-4907-b3a4-d15847c31fb5\n",
      "4baab0ec-f951-4fdd-8b47-ecc7f3fef697\n",
      "9d4b84dd-97d1-42b0-9748-59175ea6072d\n",
      "0c50866b-f780-4551-a4bb-aa35a72f3f4d\n",
      "17abf8ff-b793-474c-a260-9284ae6d23e2\n",
      "a417181c-d65d-4c58-800b-f9be5fb7a5f8\n",
      "dccab6e2-af28-4920-adc4-46518380d7ba\n",
      "f075b1be-4eee-4356-bf09-4377e2a98ea1\n",
      "44881201-9746-4ce0-9a88-b6d3b97045af\n",
      "11f3f86e-7a31-466c-a78e-f2d96995b70c\n",
      "6cab947f-d34f-4290-a06f-56de0f833f5b\n",
      "6cc9540d-e509-4846-8483-756bdaec3fce\n",
      "7bc276f0-1b37-442c-83b8-ba0f8cba3770\n",
      "97d968c4-3f16-4c6e-acb2-f79f092e9ab3\n",
      "e3179d89-15c3-48e3-b4a0-5572b29e8209\n",
      "62056ff0-8867-443e-ab87-1c63b05e29e1\n",
      "46bc1896-a35d-417b-810c-56d4f099b054\n",
      "aa7f4ebb-496f-4c02-95f9-f04913f7989d\n",
      "1d76a775-8e2b-4f44-a979-68861b6f25de\n",
      "82d9415d-7424-44a9-a0ef-f9b00370aee7\n",
      "ef4ebd93-5865-40ca-b218-3c101b593717\n",
      "12ca66cb-6710-4cda-b1fe-01c8280c5be9\n",
      "1b0ec5c2-6849-4693-b854-840ded3dd913\n",
      "48bd91b5-11d1-43a0-a039-519e7e9a628c\n",
      "528a305d-70ca-40fc-b37a-1658f2b55ef4\n",
      "52c8f175-492a-4595-b644-a92a5851120c\n",
      "72deebb0-f93a-4430-b554-6561a4547af6\n",
      "7351ffd3-b56a-4c92-bd43-c573bf8cc601\n",
      "84d34160-d1b6-42a0-9b4c-5f740b1fb105\n",
      "acefe027-a17e-4a45-9120-44709818efce\n",
      "d84233c4-af6b-45a7-b6f9-1ec9627419dc\n",
      "6915f800-d0f0-47e3-93fe-031db0898afe\n",
      "f46ac37d-ec89-426b-82d1-32e3b55b0edd\n",
      "15d5e998-80af-4e18-b530-2abde41195de\n",
      "7bacbcf9-5c10-4e40-b09c-5b8c07ec0470\n",
      "9f8b5deb-7ccb-4401-a482-1787e071a1d2\n",
      "9ec8cb0b-c287-4823-9612-96befabdab60\n",
      "fb0f4159-0145-451f-886b-a8b0564c982b\n",
      "858c93df-7001-414b-b2d0-f2096f8b2538\n",
      "13ec8571-a0df-49ce-b241-5ae475eb59fd\n",
      "19bbd83f-a594-4d19-8181-b17cf25eb7af\n",
      "2de12301-635c-4a93-a772-42e39317276b\n",
      "375addd1-544e-4926-90d4-1e36d15bf3a3\n",
      "4fc8a920-800d-4800-8fca-49deb40b997f\n",
      "974982ec-1ba6-4963-99b2-f948e805919b\n",
      "a100a931-bfab-483d-a4f5-5dd1e23569e4\n",
      "af4c823d-4355-437e-8dd2-1c9f2ad6e4a9\n",
      "af8dc9ad-10a8-4287-8ece-a1d7a76d2abe\n",
      "c2a4a2d9-eca3-49b5-b3ae-79e5880f9927\n",
      "1570b8fa-de12-449f-825f-9e99737031dc\n",
      "45b3b855-dfde-4aaa-8af9-25a72c65340f\n",
      "45ed9719-5222-4e8a-bc70-9af48321a97d\n",
      "5bbd17b6-5345-4e42-8242-6c34ae8e9f8c\n",
      "64d6a20c-3f48-4180-b4a6-fe71786d840c\n",
      "74ad6ed9-7075-4c36-acce-e2ae44e8fd9f\n",
      "cb695122-8e79-4a20-b57f-941be521c258\n",
      "de3d213f-2367-4dc5-b4ee-14195aa97884\n",
      "fd7ab94c-96fc-4448-bb9d-2c7a86d777b9\n",
      "ffb9cc5d-dcad-40fd-acff-713f0db64edb\n",
      "9ddf3c6d-567b-4e06-acd1-92371316bd38\n",
      "8dc5b116-9f6e-4be0-95db-b95d65ed60c0\n",
      "92d8c15f-7fea-4944-bf7f-397e0ac6ae05\n",
      "1f4000ef-a7d9-41ee-9c93-047ca36ae7d8\n",
      "28717818-88c5-4c5e-b5d9-97b69056cf17\n",
      "71fc9912-72f2-4f3e-95a0-a0311ebd0387\n",
      "7a11e524-31c6-47b5-98bc-e2bb4551972f\n",
      "864c1d5f-e259-4dce-970a-e09f38c5ed96\n",
      "d8a483ac-1d71-4541-b105-24de473380e2\n",
      "54f74ab2-9270-4dbd-8810-afdc4225e311\n",
      "2fef785e-910e-4071-87f5-ba59052d4f7f\n",
      "f4a4af09-7e73-44b5-b325-2ffff95e6e84\n",
      "35aded7d-a60e-4628-ab38-4fd91010c0f6\n",
      "e6c530c8-9b72-4bc6-ada8-a07ac383ea46\n",
      "9e50bfee-7cce-4e72-9557-e40959c5fc51\n",
      "76b12196-6464-428c-97e7-f75f1c263d5e\n",
      "81ccf480-2620-479e-9be5-24709fcf0b43\n",
      "f2d60e05-392e-4895-97ec-59d75e53148f\n",
      "e702c980-5940-40db-b5f6-a790ab13e60b\n",
      "1df6a0f7-28ca-432e-b09c-15f7d61639e0\n",
      "6de4fb89-4442-4a50-84a6-9a6271e253cc\n",
      "d2f81138-e67b-4063-bdeb-3a4f5f9c31e0\n",
      "4eb665cb-7cab-49d1-87ad-657d6c73b237\n",
      "9c6be407-612e-4e37-becb-34e62c64c7e2\n",
      "b44d8928-48d6-4bba-8b13-9f1e6292cdad\n",
      "e2b3a139-ca66-438e-97b4-3f9524527951\n",
      "24ae0ff5-199f-441f-8f6e-c127eedf888e\n",
      "2e877b89-1026-41a9-9222-479ec6917173\n",
      "2d7e41d5-9657-4c4a-bafe-de2baf162d51\n",
      "9bf34c41-751f-4ef2-b150-b4e287b12eaa\n",
      "ba3a9f18-41dd-4d16-9df4-110a17a0d276\n",
      "f80e714b-544c-4aab-b426-7d17a8ac1f4d\n",
      "37935cc3-3b9e-4f66-bea9-eec5aef4f7fd\n",
      "9fd28a2e-3d6f-4772-b188-72e650e655e2\n",
      "89babdc7-ef9b-43ac-bcfc-0265733886ed\n",
      "c774cf4a-14a9-4432-9992-53fa6813189f\n",
      "5b24ad34-47a7-44a3-999a-f2e3d539d7dc\n",
      "cf46d61a-5531-4895-99e6-a6efa4fb1e53\n",
      "5ff1565e-becf-48f1-a892-ad91e232bd5e\n",
      "bef37cd6-6a81-4b50-bc5a-c45d7fc706e4\n",
      "269f3cfd-abf5-4aa5-b3c2-b05d2aa7655d\n",
      "2dde8463-6460-49d7-b54f-67a82d5bcd53\n",
      "479d758a-587a-4fcc-a42d-d195b4791235\n",
      "72d1c71a-7000-417b-8f0d-b1c05483e6a7\n",
      "d3715952-bab5-469e-9a6d-0fd168f439e9\n",
      "df038a40-1420-4fb5-a203-96a8d847ce9f\n",
      "e2ebbc05-0354-43dd-b948-492c297f1631\n",
      "ebd0fa27-d468-4929-a624-e6e5daa3bb69\n",
      "6fe2c8c2-0219-49fe-9fcf-8823fc2650c8\n",
      "347cb721-6ad0-4df3-9bd2-4bc0a3c08c8d\n",
      "c210d178-68e0-4389-ad0a-5009d96c9d9c\n",
      "f1ec24ef-7cbc-4242-bd81-97a4f36baf99\n",
      "ea82504c-7b3e-4249-a1bc-c1ef516358c8\n",
      "9c5ee5d7-0fd4-4d7e-ae3c-97019dab4d02\n",
      "7449861c-ee02-4374-852b-c78c03e1eecf\n"
     ]
    }
   ],
   "source": [
    "dist_graph = get_dist_graph(lrd_report=lrd_report,\n",
    "                            reads2rare_kmers=reads2rare_kmers,\n",
    "                            k=k)"
   ]
  },
  {
   "cell_type": "code",
   "execution_count": 12,
   "metadata": {},
   "outputs": [],
   "source": [
    "def get_unique_mono_kmers(dist_graph, min_coverage, min_dist, threshold=0.8):\n",
    "    unique_kmers = set()\n",
    "    for kmer1 in dist_graph:\n",
    "        for kmer2 in dist_graph[kmer1]:\n",
    "            freqs = dist_graph[kmer1][kmer2]\n",
    "            argmax_freq, max_freq = None, 0\n",
    "            for dist, freq in freqs.items():\n",
    "                if freq > max_freq:\n",
    "                    max_freq = freq\n",
    "                    argmax_freq = dist\n",
    "            if argmax_freq < min_dist:\n",
    "                continue\n",
    "            sum_freq = sum(freqs.values())\n",
    "            # if len(freqs) > 1:\n",
    "            #    print(freqs.values())\n",
    "            if sum_freq >= min_coverage and max_freq / sum_freq >= threshold:\n",
    "                unique_kmers.add(kmer1)\n",
    "                unique_kmers.add(kmer2)\n",
    "    return unique_kmers"
   ]
  },
  {
   "cell_type": "code",
   "execution_count": 13,
   "metadata": {},
   "outputs": [],
   "source": [
    "unique_kmers = get_unique_mono_kmers(dist_graph, min_coverage=5, min_dist=k)"
   ]
  },
  {
   "cell_type": "code",
   "execution_count": 14,
   "metadata": {},
   "outputs": [
    {
     "data": {
      "text/plain": [
       "5025"
      ]
     },
     "execution_count": 14,
     "metadata": {},
     "output_type": "execute_result"
    }
   ],
   "source": [
    "len(unique_kmers)"
   ]
  },
  {
   "cell_type": "code",
   "execution_count": 15,
   "metadata": {},
   "outputs": [
    {
     "data": {
      "text/plain": [
       "6634"
      ]
     },
     "execution_count": 15,
     "metadata": {},
     "output_type": "execute_result"
    }
   ],
   "source": [
    "len(rare_kmers)"
   ]
  },
  {
   "cell_type": "code",
   "execution_count": 16,
   "metadata": {},
   "outputs": [
    {
     "data": {
      "text/plain": [
       "(8802, 3321, 1573, 5025)"
      ]
     },
     "execution_count": 16,
     "metadata": {},
     "output_type": "execute_result"
    }
   ],
   "source": [
    "len(ref_unique_kmers), len(unique_kmers & ref_unique_kmers), len(unique_kmers - set_ref_kmers), len(unique_kmers)"
   ]
  },
  {
   "cell_type": "code",
   "execution_count": 17,
   "metadata": {},
   "outputs": [
    {
     "data": {
      "text/plain": [
       "<BarContainer object of 3 artists>"
      ]
     },
     "execution_count": 17,
     "metadata": {},
     "output_type": "execute_result"
    },
    {
     "data": {
      "image/png": "[encoded data removed]",
      "text/plain": [
       "<Figure size 432x288 with 1 Axes>"
      ]
     },
     "metadata": {
      "needs_background": "light"
     },
     "output_type": "display_data"
    }
   ],
   "source": [
    "ref_freq_unique_kmers = {kmer: ref_kmers[kmer] for kmer in rare_kmers}\n",
    "ref_freq_unique_kmers_cnt = Counter(ref_freq_unique_kmers.values())\n",
    "plt.bar(ref_freq_unique_kmers_cnt.keys(), height = ref_freq_unique_kmers_cnt.values())"
   ]
  },
  {
   "cell_type": "code",
   "execution_count": 18,
   "metadata": {},
   "outputs": [
    {
     "data": {
      "text/plain": [
       "Counter({0: 2369, 1: 4099, 2: 166})"
      ]
     },
     "execution_count": 18,
     "metadata": {},
     "output_type": "execute_result"
    }
   ],
   "source": [
    "ref_freq_unique_kmers_cnt"
   ]
  },
  {
   "cell_type": "code",
   "execution_count": 19,
   "metadata": {},
   "outputs": [
    {
     "data": {
      "text/plain": [
       "<BarContainer object of 3 artists>"
      ]
     },
     "execution_count": 19,
     "metadata": {},
     "output_type": "execute_result"
    },
    {
     "data": {
      "image/png": "[encoded data removed]",
      "text/plain": [
       "<Figure size 432x288 with 1 Axes>"
      ]
     },
     "metadata": {
      "needs_background": "light"
     },
     "output_type": "display_data"
    }
   ],
   "source": [
    "ref_freq_unique_kmers = {kmer: ref_kmers[kmer] for kmer in unique_kmers}\n",
    "ref_freq_unique_kmers_cnt = Counter(ref_freq_unique_kmers.values())\n",
    "plt.bar(ref_freq_unique_kmers_cnt.keys(), height = ref_freq_unique_kmers_cnt.values())"
   ]
  },
  {
   "cell_type": "code",
   "execution_count": 20,
   "metadata": {},
   "outputs": [
    {
     "data": {
      "text/plain": [
       "Counter({0: 1573, 1: 3321, 2: 131})"
      ]
     },
     "execution_count": 20,
     "metadata": {},
     "output_type": "execute_result"
    }
   ],
   "source": [
    "ref_freq_unique_kmers_cnt"
   ]
  },
  {
   "cell_type": "code",
   "execution_count": 21,
   "metadata": {},
   "outputs": [],
   "source": [
    "repetitive_pos = [ref_pos[kmer] for kmer in rare_kmers if ref_kmers[kmer] > 1]\n",
    "repetitive_pos = sorted(sum(repetitive_pos, []))"
   ]
  },
  {
   "cell_type": "code",
   "execution_count": 22,
   "metadata": {},
   "outputs": [
    {
     "data": {
      "text/plain": [
       "<BarContainer object of 332 artists>"
      ]
     },
     "execution_count": 22,
     "metadata": {},
     "output_type": "execute_result"
    },
    {
     "data": {
      "image/png": "[encoded data removed]",
      "text/plain": [
       "<Figure size 432x288 with 1 Axes>"
      ]
     },
     "metadata": {
      "needs_background": "light"
     },
     "output_type": "display_data"
    }
   ],
   "source": [
    "plt.bar(repetitive_pos, height=1)"
   ]
  },
  {
   "cell_type": "code",
   "execution_count": 23,
   "metadata": {},
   "outputs": [
    {
     "data": {
      "text/plain": [
       "[1162,\n",
       " 1163,\n",
       " 1164,\n",
       " 1165,\n",
       " 1166,\n",
       " 1167,\n",
       " 1168,\n",
       " 1169,\n",
       " 1170,\n",
       " 1171,\n",
       " 1172,\n",
       " 1173,\n",
       " 1174,\n",
       " 1175,\n",
       " 1176,\n",
       " 1177,\n",
       " 1178,\n",
       " 1179,\n",
       " 1180,\n",
       " 1181,\n",
       " 1182,\n",
       " 1183,\n",
       " 1184,\n",
       " 1185,\n",
       " 1186,\n",
       " 1187,\n",
       " 1188,\n",
       " 1189,\n",
       " 1190,\n",
       " 1191,\n",
       " 1192,\n",
       " 1193,\n",
       " 1194,\n",
       " 1195,\n",
       " 1196,\n",
       " 1197,\n",
       " 1198,\n",
       " 1199,\n",
       " 1200,\n",
       " 1201,\n",
       " 1202,\n",
       " 1203,\n",
       " 1204,\n",
       " 1205,\n",
       " 1206,\n",
       " 1207,\n",
       " 1208,\n",
       " 1209,\n",
       " 1210,\n",
       " 1211,\n",
       " 1212,\n",
       " 1213,\n",
       " 1214,\n",
       " 1354,\n",
       " 1355,\n",
       " 1356,\n",
       " 1357,\n",
       " 1358,\n",
       " 1359,\n",
       " 1360,\n",
       " 1361,\n",
       " 1362,\n",
       " 1363,\n",
       " 1364,\n",
       " 1365,\n",
       " 1366,\n",
       " 1367,\n",
       " 1368,\n",
       " 1369,\n",
       " 1370,\n",
       " 1371,\n",
       " 1372,\n",
       " 1373,\n",
       " 1374,\n",
       " 1375,\n",
       " 1376,\n",
       " 1377,\n",
       " 1378,\n",
       " 1379,\n",
       " 1380,\n",
       " 1381,\n",
       " 1382,\n",
       " 1383,\n",
       " 1384,\n",
       " 1385,\n",
       " 1386,\n",
       " 1387,\n",
       " 1388,\n",
       " 1389,\n",
       " 1390,\n",
       " 1391,\n",
       " 1392,\n",
       " 1393,\n",
       " 1394,\n",
       " 1395,\n",
       " 1396,\n",
       " 1397,\n",
       " 1398,\n",
       " 1399,\n",
       " 1400,\n",
       " 1401,\n",
       " 1402,\n",
       " 1403,\n",
       " 1404,\n",
       " 1405,\n",
       " 1406,\n",
       " 9083,\n",
       " 9084,\n",
       " 9085,\n",
       " 9086,\n",
       " 9087,\n",
       " 9088,\n",
       " 9089,\n",
       " 9090,\n",
       " 9091,\n",
       " 9092,\n",
       " 9093,\n",
       " 9094,\n",
       " 9095,\n",
       " 9096,\n",
       " 9097,\n",
       " 9098,\n",
       " 9099,\n",
       " 9100,\n",
       " 9101,\n",
       " 9102,\n",
       " 9103,\n",
       " 9104,\n",
       " 9105,\n",
       " 9106,\n",
       " 9107,\n",
       " 9108,\n",
       " 9109,\n",
       " 9110,\n",
       " 9111,\n",
       " 9112,\n",
       " 9113,\n",
       " 9114,\n",
       " 9115,\n",
       " 9116,\n",
       " 9117,\n",
       " 9118,\n",
       " 9119,\n",
       " 9120,\n",
       " 9320,\n",
       " 9321,\n",
       " 9322,\n",
       " 9323,\n",
       " 9324,\n",
       " 9325,\n",
       " 9326,\n",
       " 9327,\n",
       " 9328,\n",
       " 9329,\n",
       " 9330,\n",
       " 9331,\n",
       " 9332,\n",
       " 9333,\n",
       " 9334,\n",
       " 9335,\n",
       " 9336,\n",
       " 9337,\n",
       " 9338,\n",
       " 9339,\n",
       " 9340,\n",
       " 9341,\n",
       " 9342,\n",
       " 9343,\n",
       " 9344,\n",
       " 9345,\n",
       " 9346,\n",
       " 9347,\n",
       " 9348,\n",
       " 9349,\n",
       " 9350,\n",
       " 9351,\n",
       " 9352,\n",
       " 9353,\n",
       " 9354,\n",
       " 9355,\n",
       " 9356,\n",
       " 9357,\n",
       " 12064,\n",
       " 12065,\n",
       " 12066,\n",
       " 12067,\n",
       " 12068,\n",
       " 12069,\n",
       " 12070,\n",
       " 12071,\n",
       " 12072,\n",
       " 12073,\n",
       " 12074,\n",
       " 12075,\n",
       " 12076,\n",
       " 12077,\n",
       " 12078,\n",
       " 12079,\n",
       " 12080,\n",
       " 12081,\n",
       " 12082,\n",
       " 12083,\n",
       " 12084,\n",
       " 12085,\n",
       " 12086,\n",
       " 12087,\n",
       " 12088,\n",
       " 12089,\n",
       " 12090,\n",
       " 12091,\n",
       " 12092,\n",
       " 12093,\n",
       " 12094,\n",
       " 12095,\n",
       " 12096,\n",
       " 12097,\n",
       " 12098,\n",
       " 12099,\n",
       " 12100,\n",
       " 12101,\n",
       " 12102,\n",
       " 12103,\n",
       " 12104,\n",
       " 12105,\n",
       " 12106,\n",
       " 12107,\n",
       " 12108,\n",
       " 12109,\n",
       " 13478,\n",
       " 13479,\n",
       " 13480,\n",
       " 13481,\n",
       " 13482,\n",
       " 13483,\n",
       " 13484,\n",
       " 13485,\n",
       " 13486,\n",
       " 13487,\n",
       " 13488,\n",
       " 13489,\n",
       " 13490,\n",
       " 13491,\n",
       " 13492,\n",
       " 13493,\n",
       " 13494,\n",
       " 13495,\n",
       " 13496,\n",
       " 13497,\n",
       " 13498,\n",
       " 13499,\n",
       " 13500,\n",
       " 13501,\n",
       " 13502,\n",
       " 13503,\n",
       " 13504,\n",
       " 13505,\n",
       " 13506,\n",
       " 13507,\n",
       " 13508,\n",
       " 13509,\n",
       " 13510,\n",
       " 13511,\n",
       " 13512,\n",
       " 13513,\n",
       " 13514,\n",
       " 13515,\n",
       " 13516,\n",
       " 13517,\n",
       " 13518,\n",
       " 13519,\n",
       " 13520,\n",
       " 13521,\n",
       " 13522,\n",
       " 13523,\n",
       " 14247,\n",
       " 14752,\n",
       " 14753,\n",
       " 14754,\n",
       " 14755,\n",
       " 14756,\n",
       " 14757,\n",
       " 14758,\n",
       " 14759,\n",
       " 14760,\n",
       " 14761,\n",
       " 14762,\n",
       " 14763,\n",
       " 14764,\n",
       " 14765,\n",
       " 14766,\n",
       " 15734,\n",
       " 16308,\n",
       " 16309,\n",
       " 16310,\n",
       " 16311,\n",
       " 16312,\n",
       " 16313,\n",
       " 16314,\n",
       " 16315,\n",
       " 16316,\n",
       " 16317,\n",
       " 16318,\n",
       " 16319,\n",
       " 16320,\n",
       " 16321,\n",
       " 16322,\n",
       " 16701,\n",
       " 16702,\n",
       " 16703,\n",
       " 16704,\n",
       " 16705,\n",
       " 16706,\n",
       " 16707,\n",
       " 16708,\n",
       " 16709,\n",
       " 16710,\n",
       " 16711,\n",
       " 16712,\n",
       " 16713,\n",
       " 16890,\n",
       " 16891,\n",
       " 16892,\n",
       " 16893,\n",
       " 16894,\n",
       " 16895,\n",
       " 16896,\n",
       " 16897,\n",
       " 16898,\n",
       " 16899,\n",
       " 16900,\n",
       " 16901,\n",
       " 16902]"
      ]
     },
     "execution_count": 23,
     "metadata": {},
     "output_type": "execute_result"
    }
   ],
   "source": [
    "repetitive_pos"
   ]
  },
  {
   "cell_type": "code",
   "execution_count": null,
   "metadata": {},
   "outputs": [],
   "source": []
  }
 ],
 "metadata": {
  "kernelspec": {
   "display_name": "Python 3",
   "language": "python",
   "name": "python3"
  },
  "language_info": {
   "codemirror_mode": {
    "name": "ipython",
    "version": 3
   },
   "file_extension": ".py",
   "mimetype": "text/x-python",
   "name": "python",
   "nbconvert_exporter": "python",
   "pygments_lexer": "ipython3",
   "version": "3.6.7"
  }
 },
 "nbformat": 4,
 "nbformat_minor": 2
}
