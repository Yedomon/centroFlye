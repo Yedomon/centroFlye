{
 "cells": [
  {
   "cell_type": "code",
   "execution_count": 1,
   "metadata": {},
   "outputs": [],
   "source": [
    "import sys\n",
    "sys.path.append('..')\n",
    "import edlib\n",
    "import numpy as np\n",
    "from collections import Counter, defaultdict\n",
    "import operator\n",
    "from string import ascii_uppercase\n",
    "\n",
    "\n",
    "from lrd_parser import LRD_Report\n",
    "from utils.bio import hamming_distance, identity_shift, OverlapAlignment, compress_homopolymer\n",
    "import networkx as nx\n",
    "\n",
    "import matplotlib\n",
    "%matplotlib inline \n",
    "import matplotlib.pyplot as plt\n",
    "from matplotlib.ticker import MaxNLocator\n",
    "\n",
    "from ndex2.nice_cx_network import NiceCXNetwork\n",
    "import ndex2.client as nc\n",
    "import ndex2\n",
    "\n",
    "%load_ext autoreload\n",
    "%autoreload 2"
   ]
  },
  {
   "cell_type": "markdown",
   "metadata": {},
   "source": [
    "# Ref unique k-mers"
   ]
  },
  {
   "cell_type": "code",
   "execution_count": 2,
   "metadata": {},
   "outputs": [],
   "source": [
    "man_assembly_fn = \"/Poppy/abzikadze/centroFlye/centroFlye_repo/data/D6Z1/CEN6_ManVERSION3.tsv\"\n",
    "\n",
    "units = []\n",
    "with open(man_assembly_fn) as f:\n",
    "    for line in f:\n",
    "        line = line.strip().split('\\t')\n",
    "        st, en = int(line[-2]), int(line[-1])\n",
    "        if en < 17:\n",
    "            en -= 1\n",
    "        units.append((st, en))\n",
    "        \n",
    "def units2monomers(units):\n",
    "    monomers = []\n",
    "    for (s, e) in units:\n",
    "        monomers.append(ascii_uppercase[s:e+1])\n",
    "    monomers = ''.join(monomers)\n",
    "    return monomers\n",
    "\n",
    "ref_monomers = units2monomers(units)\n",
    "\n",
    "k = 200\n",
    "ref_kmers = [ref_monomers[i:i+k] for i in range(len(ref_monomers) - k + 1)]\n",
    "\n",
    "ref_kmers = Counter(ref_kmers)\n",
    "set_ref_kmers = set(ref_kmers.keys())\n",
    "ref_unique_kmers = set(kmer for kmer, cnt in ref_kmers.items() if cnt == 1)"
   ]
  },
  {
   "cell_type": "code",
   "execution_count": 3,
   "metadata": {},
   "outputs": [
    {
     "data": {
      "text/plain": [
       "8802"
      ]
     },
     "execution_count": 3,
     "metadata": {},
     "output_type": "execute_result"
    }
   ],
   "source": [
    "len(ref_unique_kmers)"
   ]
  },
  {
   "cell_type": "code",
   "execution_count": 4,
   "metadata": {},
   "outputs": [],
   "source": [
    "def get_kmer_pos(string, k):\n",
    "    pos = defaultdict(list)\n",
    "    for i in range(len(string)-k+1):\n",
    "        pos[string[i:i+k]].append(i)\n",
    "    return pos\n",
    "\n",
    "ref_pos = get_kmer_pos(string=ref_monomers, k=k)"
   ]
  },
  {
   "cell_type": "markdown",
   "metadata": {},
   "source": [
    "# Recruitment of unique k-mers"
   ]
  },
  {
   "cell_type": "code",
   "execution_count": null,
   "metadata": {},
   "outputs": [],
   "source": [
    "lrd_report_fn = '/Poppy/abzikadze/centroFlye/centroFlye_repo/experiments/20191023/lrd_d6z1_rel3_Karen/decomposition.tsv'\n",
    "monomers_fn = \"/Poppy/abzikadze/tandem_flye/data/human/isolated_centromeres/extracted_HORs/CEN6/monomers/inferred_monomers_single.fa\"\n",
    "\n",
    "lrd_report = LRD_Report(lrd_report_fn=lrd_report_fn, monomers_fn=monomers_fn)"
   ]
  },
  {
   "cell_type": "code",
   "execution_count": null,
   "metadata": {},
   "outputs": [],
   "source": [
    "def get_rare_mono_kmers(lrd_report, k, min_mult, max_mult):\n",
    "    all_kmers = Counter()\n",
    "    kmer_locations = defaultdict(list)\n",
    "    for r_id, record in lrd_report.records.items():\n",
    "        string = record.string\n",
    "        for i in range(len(string)-k+1):\n",
    "            kmer = string[i:i+k]\n",
    "            if '=' not in kmer:\n",
    "                all_kmers[kmer] += 1\n",
    "                kmer_locations[kmer].append((r_id, i))\n",
    "                \n",
    "    rare_kmers = {kmer: cnt for kmer, cnt in all_kmers.items()\n",
    "                  if min_mult <= cnt <= max_mult}\n",
    "    reads2rare_kmers = defaultdict(list)\n",
    "    for kmer in rare_kmers:\n",
    "        locs = kmer_locations[kmer]\n",
    "        for loc in locs:\n",
    "            r_id, coordinate = loc\n",
    "            reads2rare_kmers[r_id].append(coordinate)\n",
    "    for r_id in reads2rare_kmers:\n",
    "        reads2rare_kmers[r_id].sort()\n",
    "    return rare_kmers, reads2rare_kmers\n"
   ]
  },
  {
   "cell_type": "code",
   "execution_count": null,
   "metadata": {},
   "outputs": [],
   "source": [
    "rare_min_mult, rare_max_mult = 5, 30\n",
    "\n",
    "rare_kmers, reads2rare_kmers = get_rare_mono_kmers(lrd_report, k=k, min_mult=rare_min_mult, max_mult=rare_max_mult)"
   ]
  },
  {
   "cell_type": "code",
   "execution_count": null,
   "metadata": {},
   "outputs": [
    {
     "data": {
      "text/plain": [
       "(8802, 5961, 2862, 9785)"
      ]
     },
     "execution_count": 8,
     "metadata": {},
     "output_type": "execute_result"
    }
   ],
   "source": [
    "set_rare_kmers = set(rare_kmers.keys())\n",
    "len(ref_unique_kmers), len(set_rare_kmers & ref_unique_kmers), len(set_rare_kmers - set_ref_kmers), len(set_rare_kmers)"
   ]
  },
  {
   "cell_type": "markdown",
   "metadata": {},
   "source": [
    "Need to create a plot of dependency of everything depending on parameters"
   ]
  },
  {
   "cell_type": "code",
   "execution_count": null,
   "metadata": {},
   "outputs": [],
   "source": [
    "def get_dist_graph(lrd_report, reads2rare_kmers, k):\n",
    "    dist_graph = defaultdict(lambda: defaultdict(lambda: defaultdict(int)))\n",
    "    for r_id, coords in reads2rare_kmers.items():\n",
    "        print(r_id)\n",
    "        seq = lrd_report.records[r_id].string\n",
    "        for c1 in coords:\n",
    "            for c2 in coords:\n",
    "                kmer1 = seq[c1:c1+k]\n",
    "                kmer2 = seq[c2:c2+k]\n",
    "                dist_graph[kmer1][kmer2][c2-c1] += 1\n",
    "    return dist_graph"
   ]
  },
  {
   "cell_type": "code",
   "execution_count": null,
   "metadata": {
    "scrolled": true
   },
   "outputs": [
    {
     "name": "stdout",
     "output_type": "stream",
     "text": [
      "00739941-c14c-40bd-9fad-fabff753795b\n",
      "35e23dc0-4219-4951-b491-be041f325bf3\n",
      "42affd5a-e784-44ae-8899-d978b5a8ee10\n",
      "6e54ff5e-7a55-4dad-bae3-004d255dddbd\n",
      "7e9301cd-6184-44f7-9db4-849ac08d33a5\n",
      "8e85dd90-8045-4df1-ba7b-b6b576deaa4d\n",
      "9f11e0b2-3f1f-46b0-bcfb-72fd5eaff950\n",
      "a7a6eb6b-2225-4396-bb6b-2c0809993922\n",
      "ab79a298-1f1a-44da-a174-6a52ae8abfcd\n",
      "ca0eeaaf-2aee-4e3e-9134-acca35d636ad\n",
      "db403540-296f-4a52-b04b-489c9f8116ef\n",
      "f93d3935-7068-41ed-84ad-7b53b5460df5\n",
      "8f633f5b-eb70-4ab0-94d2-77c708561492\n",
      "e1e9d70e-c20b-47fe-89b3-8777b85ccc43\n",
      "df9e6b8f-e94b-4bac-a69e-9e98b1769c42\n",
      "df436222-50d1-4975-861e-58ab06750067\n",
      "c0e1dce1-3466-415a-bde7-a6e371a3db86\n",
      "871dbdd1-62eb-4c4b-b2fa-000febf9ba16\n",
      "31700b15-5b3d-4d8c-b047-7836cb183613\n",
      "42da64e4-e647-4426-b497-cda32cd3ca28\n",
      "5da9ab31-d608-4581-b5fd-37acce77300e\n",
      "ea920754-ed98-43fc-aab4-10bc923ba16e\n",
      "747e0d59-fbd1-4378-bc82-77287e4bc114\n",
      "e271f539-e586-4ca0-b153-01c72400eaa3\n",
      "1b4bd09e-07f3-4455-b041-c4599b6fbe3d\n",
      "7a11e524-31c6-47b5-98bc-e2bb4551972f\n",
      "71fc9912-72f2-4f3e-95a0-a0311ebd0387\n",
      "1f4000ef-a7d9-41ee-9c93-047ca36ae7d8\n",
      "28717818-88c5-4c5e-b5d9-97b69056cf17\n",
      "81ccf480-2620-479e-9be5-24709fcf0b43\n",
      "864c1d5f-e259-4dce-970a-e09f38c5ed96\n",
      "01f80610-395e-4ef8-93d0-526989b8cb53\n",
      "079aa8c8-90a4-4fe8-af37-d9170f7d82b7\n",
      "794fcdf4-9216-42c1-abf6-e151c28caa2b\n",
      "811defc1-9588-4647-a195-9893efee03f8\n",
      "8b7715a3-3c05-4dc2-a9fa-42ad1a4f184e\n",
      "8d782575-f417-4185-898f-d9ed268f9e09\n",
      "8e82bf8e-7a0c-4f8b-8f78-c80abf0f995f\n",
      "a38fe2d4-f6ee-4315-923e-eb55ae9c27cc\n",
      "bb86c2bb-d507-4d7f-bf85-c1ae261e7e52\n",
      "ca937ead-99bb-4729-a245-a9d611938c49\n",
      "ce6769a7-1c41-4fa3-91c0-5f439a05f0cd\n",
      "d1e76d2a-7795-427f-addf-441c62a2b523\n",
      "dd64f69c-5814-47ad-a5c1-91a0d4f9e88f\n",
      "efa2c03b-2ab9-4831-a493-2c90314e053a\n",
      "f6563ace-66c8-424e-a269-fa61b7e2edef\n",
      "ea6a949b-b0c9-4694-9fb5-cae9e9f915de\n",
      "3ca418ed-c4eb-4ae3-b52b-48a6df3b1d75\n",
      "e177ca03-2115-4ba8-b1a5-f642bf02a597\n",
      "aff6bdf9-4388-46e6-9aa5-af5c6c88258d\n",
      "4b6070e0-4b25-49a4-9123-c74cb4a5cf86\n",
      "14eb3993-37ae-468e-9e48-c2eeeb996ed3\n",
      "c5bb3e14-3a0b-41f2-9b0f-2007cd12591f\n",
      "356056be-00d7-4e1a-b6d5-7a0865f3aefe\n",
      "805dd6c7-fb61-484c-a665-287de030251c\n",
      "f36baa3e-7398-4795-af5a-b586f18ed73d\n",
      "f1d500d0-d1f9-4a8a-b280-1a48a3826572\n",
      "0edd79ac-1cdd-4677-8898-71aae0d5c1c3\n",
      "03e1fc3d-8e77-4170-94e1-3711db044f8b\n",
      "1d76a775-8e2b-4f44-a979-68861b6f25de\n",
      "32aca0e3-fbd9-4730-abc9-19fd94edf078\n",
      "4d4353d9-0078-40fa-ac0d-1b3ee5c86319\n",
      "7c56d9af-940e-452e-8cff-f55c0fca5451\n",
      "82911af2-7474-4bce-8ea7-ee12600cac0a\n",
      "dcdbf3fe-c017-40e6-8836-cd5e55980549\n",
      "e702c980-5940-40db-b5f6-a790ab13e60b\n",
      "ee68ff9e-5a90-48bd-b8bf-b4a3e2e546a1\n",
      "f2d60e05-392e-4895-97ec-59d75e53148f\n",
      "f3a7eb72-23c5-4c60-97d8-be9c7cb6285b\n",
      "4578e1fd-b534-433e-87af-9e88fbdf48c1\n",
      "4120b935-18e3-4292-852d-40c348acb661\n",
      "a736a0ea-c35b-4c3a-b25c-5bf2bb2d2b21\n",
      "c9b35493-5251-4401-a3cb-3d03b74b8adc\n",
      "cf2956ec-2abd-4a89-bd3e-d5aac2967f76\n",
      "f88d4b39-15f0-406c-80b2-30371157f821\n",
      "fcae8836-1b96-412e-a603-65e8f7ff7198\n",
      "0540aa3e-f34b-4e74-a5e5-884b69594a0d\n",
      "13ec8571-a0df-49ce-b241-5ae475eb59fd\n",
      "375addd1-544e-4926-90d4-1e36d15bf3a3\n",
      "3bd633e5-3b83-4315-bba5-67b206604850\n",
      "4fc8a920-800d-4800-8fca-49deb40b997f\n",
      "6c38b9e7-1f4b-4f6d-a732-09b5aaf2b22e\n",
      "7e28e345-ded4-429a-86fb-4380067400b9\n",
      "7f9feb66-7d81-4873-846a-c9184e008621\n",
      "81509345-296d-4e7d-9f59-b81d0cf7cb51\n",
      "974982ec-1ba6-4963-99b2-f948e805919b\n",
      "a100a931-bfab-483d-a4f5-5dd1e23569e4\n",
      "a7eedff6-c1cc-46aa-b6f4-a62eb95aef5b\n",
      "af4c823d-4355-437e-8dd2-1c9f2ad6e4a9\n",
      "af8dc9ad-10a8-4287-8ece-a1d7a76d2abe\n",
      "b6b65f51-d813-4a3a-a3e1-45c5ecb241df\n",
      "c2a4a2d9-eca3-49b5-b3ae-79e5880f9927\n",
      "c729c35a-9a06-4efa-9659-863350da1e7f\n",
      "d17e2ed7-1824-419c-9654-f9322f9c40b9\n",
      "e292a036-e0a2-458b-8ee2-8e61272844a3\n",
      "5a4200d7-6028-47b3-8c1c-54a13d13fcbb\n",
      "16b13a10-65ce-4a43-a8aa-b385ae435bce\n",
      "11416399-75e7-4251-824f-c17721a01605\n",
      "1d0706f6-cc39-4a05-a4fd-2ee7e1674457\n",
      "2b30c216-e7bb-465a-bc1b-1847312ecdc4\n",
      "2c2202da-61a9-489e-bdc9-8e04e504278f\n",
      "3545652f-4bd9-4d72-97ed-9a10cef9a1f1\n",
      "46bc1896-a35d-417b-810c-56d4f099b054\n",
      "6e3d2a63-0182-4638-9e24-0f600e879cf7\n",
      "8c0214da-d264-4072-94d8-24eb17d5b59b\n",
      "8e08bc04-b817-4c1a-a3bf-d8cb7e338dc4\n",
      "96779c5c-4eee-4184-ae1c-182e6b5ccb6a\n",
      "989d6a9b-96ec-413c-bc8b-03b96737e87d\n",
      "9a10b6c4-f6a8-4926-aca3-70eeaf9d3f12\n",
      "a6a9c19c-4049-4312-9e36-aabd8751949c\n",
      "f075b1be-4eee-4356-bf09-4377e2a98ea1\n",
      "f174b02c-7f7e-41e1-9071-de9bb0dab587\n",
      "7e466664-3a39-4e9c-8b2e-d07ecafd6769\n",
      "385826e5-a023-4543-966c-b69c8f2501a5\n",
      "c6fbcf1c-4c12-48eb-909d-f5be821e4c10\n",
      "3ca9bb28-d5dc-4081-939b-3da4f258f0d0\n",
      "535aa52e-6acc-4f47-af7f-e728e2b8c0bc\n",
      "459cabbd-30ad-4a2a-985a-5983b49e50ff\n",
      "0352811e-b17c-4fc1-a73f-99757d30745c\n",
      "3d6a3d5b-3272-4d17-813b-58e27a214c40\n",
      "46a4165e-6315-4339-9d4e-3af1ca00b3fc\n",
      "b55aea96-cbe9-4c7b-9b0a-0501dd830ba8\n",
      "b5b1edae-40b7-4934-8aad-69f53c50e541\n",
      "f9774a7d-75d0-4783-8053-ce259920fc2e\n",
      "46bad76d-fcf7-4816-a7c2-ba08e219ea9d\n",
      "6d234dca-6700-4ac0-8cb2-31bf734d43df\n",
      "2d7e41d5-9657-4c4a-bafe-de2baf162d51\n",
      "2e877b89-1026-41a9-9222-479ec6917173\n",
      "74ad6ed9-7075-4c36-acce-e2ae44e8fd9f\n",
      "9c6be407-612e-4e37-becb-34e62c64c7e2\n",
      "c774cf4a-14a9-4432-9992-53fa6813189f\n",
      "d2f81138-e67b-4063-bdeb-3a4f5f9c31e0\n",
      "de3d213f-2367-4dc5-b4ee-14195aa97884\n",
      "fd7ab94c-96fc-4448-bb9d-2c7a86d777b9\n",
      "ffb9cc5d-dcad-40fd-acff-713f0db64edb\n",
      "45b3b855-dfde-4aaa-8af9-25a72c65340f\n"
     ]
    }
   ],
   "source": [
    "dist_graph = get_dist_graph(lrd_report=lrd_report,\n",
    "                            reads2rare_kmers=reads2rare_kmers,\n",
    "                            k=k)"
   ]
  },
  {
   "cell_type": "code",
   "execution_count": null,
   "metadata": {},
   "outputs": [],
   "source": [
    "def get_unique_mono_kmers(dist_graph, min_coverage, min_dist, threshold=0.8):\n",
    "    unique_kmers = set()\n",
    "    for kmer1 in dist_graph:\n",
    "        for kmer2 in dist_graph[kmer1]:\n",
    "            freqs = dist_graph[kmer1][kmer2]\n",
    "            argmax_freq, max_freq = None, 0\n",
    "            for dist, freq in freqs.items():\n",
    "                if freq > max_freq:\n",
    "                    max_freq = freq\n",
    "                    argmax_freq = dist\n",
    "            if argmax_freq < min_dist:\n",
    "                continue\n",
    "            sum_freq = sum(freqs.values())\n",
    "            # if len(freqs) > 1:\n",
    "            #    print(freqs.values())\n",
    "            if sum_freq >= min_coverage and max_freq / sum_freq >= threshold:\n",
    "                unique_kmers.add(kmer1)\n",
    "                unique_kmers.add(kmer2)\n",
    "    return unique_kmers"
   ]
  },
  {
   "cell_type": "code",
   "execution_count": null,
   "metadata": {},
   "outputs": [],
   "source": [
    "unique_kmers = get_unique_mono_kmers(dist_graph, min_coverage=10, min_dist=k)"
   ]
  },
  {
   "cell_type": "code",
   "execution_count": null,
   "metadata": {},
   "outputs": [],
   "source": [
    "len(unique_kmers)"
   ]
  },
  {
   "cell_type": "code",
   "execution_count": null,
   "metadata": {},
   "outputs": [],
   "source": [
    "len(rare_kmers)"
   ]
  },
  {
   "cell_type": "code",
   "execution_count": null,
   "metadata": {},
   "outputs": [],
   "source": [
    "len(ref_unique_kmers), len(unique_kmers & ref_unique_kmers), len(unique_kmers - set_ref_kmers), len(unique_kmers)"
   ]
  },
  {
   "cell_type": "code",
   "execution_count": null,
   "metadata": {},
   "outputs": [],
   "source": [
    "ref_freq_unique_kmers = {kmer: ref_kmers[kmer] for kmer in rare_kmers}\n",
    "ref_freq_unique_kmers_cnt = Counter(ref_freq_unique_kmers.values())\n",
    "plt.bar(ref_freq_unique_kmers_cnt.keys(), height = ref_freq_unique_kmers_cnt.values())"
   ]
  },
  {
   "cell_type": "code",
   "execution_count": null,
   "metadata": {},
   "outputs": [],
   "source": [
    "ref_freq_unique_kmers_cnt"
   ]
  },
  {
   "cell_type": "code",
   "execution_count": null,
   "metadata": {},
   "outputs": [],
   "source": [
    "ref_freq_unique_kmers = {kmer: ref_kmers[kmer] for kmer in unique_kmers}\n",
    "ref_freq_unique_kmers_cnt = Counter(ref_freq_unique_kmers.values())\n",
    "plt.bar(ref_freq_unique_kmers_cnt.keys(), height = ref_freq_unique_kmers_cnt.values())"
   ]
  },
  {
   "cell_type": "code",
   "execution_count": null,
   "metadata": {},
   "outputs": [],
   "source": [
    "ref_freq_unique_kmers_cnt"
   ]
  },
  {
   "cell_type": "code",
   "execution_count": null,
   "metadata": {},
   "outputs": [],
   "source": [
    "repetitive_pos = [ref_pos[kmer] for kmer in unique_kmers if ref_kmers[kmer] > 1]\n",
    "repetitive_pos = sum(repetitive_pos, [])"
   ]
  },
  {
   "cell_type": "code",
   "execution_count": null,
   "metadata": {},
   "outputs": [],
   "source": [
    "plt.bar(repetitive_pos, height=1)"
   ]
  },
  {
   "cell_type": "code",
   "execution_count": null,
   "metadata": {},
   "outputs": [],
   "source": []
  }
 ],
 "metadata": {
  "kernelspec": {
   "display_name": "Python 3",
   "language": "python",
   "name": "python3"
  },
  "language_info": {
   "codemirror_mode": {
    "name": "ipython",
    "version": 3
   },
   "file_extension": ".py",
   "mimetype": "text/x-python",
   "name": "python",
   "nbconvert_exporter": "python",
   "pygments_lexer": "ipython3",
   "version": "3.6.7"
  }
 },
 "nbformat": 4,
 "nbformat_minor": 2
}
